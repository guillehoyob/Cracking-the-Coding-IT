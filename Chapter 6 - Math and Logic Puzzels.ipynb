{
 "cells": [
  {
   "cell_type": "markdown",
   "id": "945d07bd-7df9-4ad2-b4a0-93755d98bf12",
   "metadata": {},
   "source": [
    "# Import"
   ]
  },
  {
   "cell_type": "code",
   "execution_count": 198,
   "id": "d9e10f2c-53ba-4446-8cd2-b47daba54ee4",
   "metadata": {},
   "outputs": [],
   "source": [
    "# Images\n",
    "from IPython.display import Image"
   ]
  },
  {
   "cell_type": "code",
   "execution_count": null,
   "id": "2c3a1000-2c5d-41de-bbe5-0f7d7950b68c",
   "metadata": {},
   "outputs": [],
   "source": []
  },
  {
   "cell_type": "markdown",
   "id": "d8797418-6da8-47c5-89d7-b36383199dca",
   "metadata": {},
   "source": [
    "# Math and Logic Puzzels"
   ]
  },
  {
   "cell_type": "markdown",
   "id": "c0e2ce86-328d-4147-9fb7-04a5eec11562",
   "metadata": {},
   "source": [
    "# Exercises"
   ]
  },
  {
   "cell_type": "markdown",
   "id": "1cd6b009-545b-4d8d-8aba-cf4bc60ee084",
   "metadata": {},
   "source": [
    "#### Exercise 6.1\n",
    "\n",
    "**The Heavy Pill:** You have 20 bottles of pills. 19 bottles have 1.0 gram pills, but one has pills of weight\n",
    "1.1 grams. Given a scale that provides an exact measurement, how would you find the heavy bottle?\n",
    "You can only use the scale once.\n",
    "\n",
    "Hints:# 186, #252, #319, #387 "
   ]
  },
  {
   "cell_type": "code",
   "execution_count": null,
   "id": "61c14ffe-3f8d-4b36-b47b-b91933315256",
   "metadata": {},
   "outputs": [],
   "source": []
  },
  {
   "cell_type": "markdown",
   "id": "82523ad5-fa82-4653-a544-8daf34e70587",
   "metadata": {},
   "source": [
    "#### Exercise 6.1\n",
    "\n",
    "**The Heavy Pill:** You have 20 bottles of pills. 19 bottles have 1.0 gram pills, but one has pills of weight\n",
    "1.1 grams. Given a scale that provides an exact measurement, how would you find the heavy bottle?\n",
    "You can only use the scale once.\n",
    "\n",
    "**Hints:** \n",
    "- #186: You can only use the scale once. This means that all, or almost all, of the bottles must be used. They also must be handled in different ways or else you couldn't distinguish between them.\n",
    "- #252: What happens if you put one pill from each bottle on the scale? What if you put two pills from each bottle on the scale?\n",
    "- #319: Imagine there were just three bottles and one had heavier pills. Suppose you put different numbers of pills from each bottle on the scale (for example, bottle 1 has 5 pills, bottle 2 has 2 pills, and bottle 3 has 9 pills). What would the scale show? \n",
    "- #387: You should be able to have an equation that tells you the heavy bottle based on the weight"
   ]
  },
  {
   "cell_type": "markdown",
   "id": "16574d2f-334f-4087-83cc-173845cd52e9",
   "metadata": {},
   "source": [
    "You need to weight all or almost all the bottles to know the answear because we can only use it once. \n",
    "\n",
    "The way of weighting the bottles is by pills. We name the bottles as bottle 1 ... to bottle 20. and we weight in the scale the number of pills the bottle name contains. So the final scale will contain:\n",
    "- 1 pill from bottle 01.\n",
    "- 2 pills from bottle 02.\n",
    "- 3 pills from bottle 03.\n",
    "- 20 pills from bottle 20.\n",
    "\n",
    "In this way, we know which bottle contains the pills of 1.1 gram. This is said by the total grams weight as 2Y.X gs. X is the second digit and Y es the first one. Lest show some examples:\n",
    "- Total Weight: 22.0 --> Bottle 20\n",
    "- Total Weight: 21.7 --> Bottle 17\n",
    "- Total Weight: 20.4 --> Bottle 04\n",
    "\n"
   ]
  },
  {
   "cell_type": "code",
   "execution_count": null,
   "id": "18da97c3-8296-425d-9635-d4a9be49e8e8",
   "metadata": {},
   "outputs": [],
   "source": []
  },
  {
   "cell_type": "markdown",
   "id": "96ff544d-6e11-44c9-84b2-3b96c0000d43",
   "metadata": {},
   "source": [
    "#### Exercise 6.2\n",
    "\n",
    "**Basketball:** You have a basketball hoop and someone says that you can play one of two games. \n",
    "\n",
    "Game 1: You get one shot to make the hoop.\n",
    "\n",
    "Game 2: You get three shots and you have to make two of three shots. \n",
    "\n",
    "If p is the probability of making a particular shot, for which values of p should you pick one game or the other?\n",
    "\n",
    "**Hints:** \n",
    "- #181: Calculate the probability of winning the first game and winning the second game, then compare them. \n",
    "- #239: To calculate the probability of winning the second game, start with calculating the probability of making the first hoop, the second hoop, and not the third hoop. \n",
    "- #284: If two events are mutually exclusive (they can never occur simultaneously), you can add their probabilities together. Can you find a set of mutually exclusive events that represent making two out of three hoops? \n",
    "- #323: The probability of making two out of three shots is probability(make shot 1, make shot 2, miss shot 3) + probability(make shot 1, miss shot 2, make shot 3) + probability(miss shot 1, make shot 2, make shot 3) + probability(make shot 1, make shot 2, make shot 3). "
   ]
  },
  {
   "cell_type": "code",
   "execution_count": null,
   "id": "97471f2e-8190-46b0-9169-fb748828e29c",
   "metadata": {},
   "outputs": [],
   "source": []
  },
  {
   "cell_type": "markdown",
   "id": "2fbbeda1-16f2-4f2e-a392-d1fb18872c94",
   "metadata": {},
   "source": [
    "#### Exercise 6.3\n",
    "\n",
    "**Dominos:** There is an 8x8 chessboard in which two diagonally opposite corners have been cut off. You are given 31 dominos, and a single domino can cover exactly two squares. Can you use the 31 dominos to cover the entire board? Prove your answer (by providing an example or showing why it's impossible).\n",
    "\n",
    "\n",
    "**Hints:**\n",
    "- #367:\n",
    "- #397: "
   ]
  },
  {
   "cell_type": "markdown",
   "id": "47a29a8a-f57e-46b1-9eb6-82e193cef567",
   "metadata": {},
   "source": [
    "Now, the new chess is made of a total of 30 black and 32 white squares. As the squares go alternating their color, and each domino has to cover exactly one white and one black square, this problem is impossible. It could be solved if thee removed squares were one white and one black."
   ]
  },
  {
   "cell_type": "code",
   "execution_count": null,
   "id": "3b812050-4d37-45f3-a8c8-e1d960553ef9",
   "metadata": {},
   "outputs": [],
   "source": []
  },
  {
   "cell_type": "markdown",
   "id": "add255e2-ddec-4090-952f-d3e87a0f76a2",
   "metadata": {},
   "source": [
    "#### Exercise 6.4\n",
    "\n",
    "**Ants on a Triangle:** There are three ants on different vertices of a triangle. What is the probability of collision (between any two or all of them) if they start walking on the sides of the triangle? Assume that each ant randomly picks a direction, with either direction being equally likely to be chosen, and that they walk at the same speed. Similarly, find the probability of collision with n ants on an n-vertex polygon.\n",
    "\n",
    "**Hints:** \n",
    "- #157:\n",
    "- #195:\n",
    "- #296: "
   ]
  },
  {
   "cell_type": "markdown",
   "id": "16cc9575-f3ba-47c0-8ba7-eabc0d88872c",
   "metadata": {},
   "source": [
    "Like the probability to go to each side is the same, there are a total of (nºAnts ^nºSides) == 2^3 = 8 prosibilities of direction:\n",
    "\n",
    "- Like there are 2 directions, of the 8 total probabilities there are only 2 possible where they dont collide == 2/8 = 1/4 = 25%\n",
    "- P of coliision = (1- P(not collision)) == 1-1/4 == 3/4 == 75%"
   ]
  },
  {
   "cell_type": "markdown",
   "id": "87eb1a88-e488-4b97-a2e4-b46dd9cbd07f",
   "metadata": {},
   "source": [
    "#### Exercise 6.5\n",
    "\n",
    "**Jugs of Water:** You have a five-quart jug, a three-quart jug, and an unlimited supply of water (but no measuring cups). How would you come up with exactly four quarts of water? Note that the jugs are oddly shaped, such that filling up exactly \"half\" of the jug would be impossible.\n",
    "\n",
    "**Hints:** \n",
    "- #149:\n",
    "- #379:\n",
    "- #400: "
   ]
  },
  {
   "cell_type": "code",
   "execution_count": null,
   "id": "aa6295dc-59d0-4ee7-b08c-530da3c2d27c",
   "metadata": {},
   "outputs": [],
   "source": []
  },
  {
   "cell_type": "markdown",
   "id": "18ca19c7-b0ef-48c1-b507-ae5d254f524c",
   "metadata": {},
   "source": [
    "#### Exercise 6.6\n",
    "**Blue-Eyed Island:** A bunch of people are living on an island, when a visitor comes with a strange order: all blue-eyed people must leave the island as soon as possible. There will be a flight out at 8:00 pm every evening. Each person can see everyone else's eye color, but they do not know their\n",
    "own (nor is anyone allowed to tell them). Additionally, they do not know how many people have blue eyes, although they do know that at least one person does. How many days will it take the blue-eyed people to leave?\n",
    "\n",
    "**Hints:** \n",
    "- #218: This is a logic problem, not a clever word problem. Use logic/math/algorithms to solve it\n",
    "- #282: Suppose there were exactly one blue-eyed person. What would that person see? When would they leave?\n",
    "- #341: Now suppose there were two blue-eyed people. What would they see? What would they know? When would they leave? Remember your answer from the prior hint. Assume they know the answer to the earlier hint. \n",
    "- #370: Build up from this. What if there were three blue-eyed people? What if there were four blue-eyed people?\n"
   ]
  },
  {
   "cell_type": "code",
   "execution_count": null,
   "id": "0431ae28-a1df-4471-8bd9-579acc60ab5f",
   "metadata": {},
   "outputs": [],
   "source": []
  },
  {
   "cell_type": "markdown",
   "id": "1842c1f9-3190-4249-a4a1-ec5a0559ac20",
   "metadata": {},
   "source": [
    "#### Exercise 6.7\n",
    "\n",
    "**The Apocalypse:** In the new post-apocalyptic world, the world queen is desperately concerned about the birth rate. Therefore, she decrees that all families should ensure that they have one girl or else they face massive fines. If all families abide by this policy that is, they have continue to have\n",
    "children until they have one girl, at which point they immediately stop-what will the gender ratio of the new generation be? (Assume that the odds of someone having a boy or a girl on any given pregnancy is equal.) Solve this out logically and then write a computer simulation of it.\n",
    "\n",
    "**Hints:**\n",
    "- #154:\n",
    "- #760:\n",
    "- #171:\n",
    "- #788:\n",
    "- #201: "
   ]
  },
  {
   "cell_type": "code",
   "execution_count": 18,
   "id": "10082849-eda6-4934-aa40-0eb1f1beaaae",
   "metadata": {},
   "outputs": [
    {
     "name": "stdout",
     "output_type": "stream",
     "text": [
      "Gilrs:  1000\n",
      "Boys:  944\n",
      "Estimated Gender Ratio (Girls/Total): 51.44%\n"
     ]
    }
   ],
   "source": [
    "import random\n",
    "\n",
    "m = 1000\n",
    "chica = 0\n",
    "chico = 0\n",
    "\n",
    "for i in range(m):\n",
    "    while random.random() <= 0.5:\n",
    "        chico += 1\n",
    "\n",
    "    chica += 1\n",
    "\n",
    "print('Gilrs: ', chica)\n",
    "print('Boys: ', chico)\n",
    "print('Estimated Gender Ratio (Girls/Total): {:.2%}'.format(chica / (chica + chico)))"
   ]
  },
  {
   "cell_type": "code",
   "execution_count": 19,
   "id": "43720763-e757-4a70-86da-00d0f57858ed",
   "metadata": {},
   "outputs": [
    {
     "name": "stdout",
     "output_type": "stream",
     "text": [
      "Girls: 1000\n",
      "Boys: 1000\n",
      "Estimated Gender Ratio (Girls/Total): 50.00%\n"
     ]
    }
   ],
   "source": [
    "import random\n",
    "\n",
    "m = 1000\n",
    "girls = 0\n",
    "boys = 0\n",
    "\n",
    "for i in range(m):\n",
    "    while random.random() <= 0.5:\n",
    "        girls += 1\n",
    "        boys += 1\n",
    "\n",
    "print('Girls:', girls)\n",
    "print('Boys:', boys)\n",
    "print('Estimated Gender Ratio (Girls/Total): {:.2%}'.format(girls / (girls + boys)))"
   ]
  },
  {
   "cell_type": "code",
   "execution_count": null,
   "id": "ea7649f9-91be-42d7-9cbd-aaea1ff2c374",
   "metadata": {},
   "outputs": [],
   "source": []
  },
  {
   "cell_type": "markdown",
   "id": "4da162e1-7747-47ee-a11f-d4c7baccc5f2",
   "metadata": {},
   "source": [
    "#### Exercise 6.8\n",
    "\n",
    "**The Egg Drop Problem:** There is a building of 100 floors. If an egg drops from the Nth floor or above, it will break. If it's dropped from any floor below, it will not break. You're given two eggs. Find N, while minimizing the number of drops for the worst case.\n",
    "\n",
    "**Hints:**\n",
    "- #156: This is really an algorithm problem, and you should approach it as such. Come up with a brute force, compute the worst-case number of drops, then try to optimize that. \n",
    "- #233: As a first approach, you might try something like binary search. Drop it from the 50th floor, then the 75th, then the 88th, and so on. The problem is that if the first egg drops at the 50th floor, then you'll need to start dropping the second egg starting from the 1st floor and going up. This could take, at worst, 50 drops (the 50th floor drop, the 1st floorodrop, the 2nd floor drop, and up through the 49th floor drop). Can you beat this? \n",
    "- #294: It's actually better for the first drop to be a bit lower. For example, you could drop at the 10th floor, then the 20th floor, then the 30th floor, and so on. The worst case here will be 19 drops (10, 20, ... , 100, 91, 92, ... , 99). Can you beat that? Try not randomly guessing at different solutions. Rather, think deeper. How is the worst case defined? How does the number of drops of each egg factor into that?\n",
    "- #333: If we drop Egg 1 at fixed intervals (e.g., every 10 floors), then the worst case is the worst case for Egg 1 + the worst case for Egg 2. The problem with our earlier solutions is that as Egg 1 does more work, Egg 2 doesn't do any less work. Ideally, we'd like to balance this a bit. As Egg 1 does more work (has survived more drops), Egg 2 should have less work to do. What might this mean?\n",
    "- #357: Try dropping Egg 1 at bigger intervals at the beginning and then at smaller and smaller intervals. The idea is to keep the sum of Egg 1 and Egg 2's drops as constant as possible. For each additional drop that Egg 1 takes, Egg 2 takes one fewer drop. What is the right interval? \n",
    "- #374: Let X be the first drop of Egg 1. This means that Egg 2 would do X - 1 drops if Egg 1 broke. We want to try to keep the sum of Egg 1 and Egg 2's drops as constant as possible. If Egg 1 breaks on the second drop, then we want Egg 2 to do X - 2 drops. If Egg 1 breaks on the third drop, then we want Egg 2 to do X - 3 drops. This keeps the sum of Egg 1 and Egg 2 fairly constant. What is X? \n",
    "- #395: I got 14 drops in the worst case. What did you get? "
   ]
  },
  {
   "cell_type": "code",
   "execution_count": null,
   "id": "3eb5ca71-1610-4cf4-824d-db2daaa21d93",
   "metadata": {},
   "outputs": [],
   "source": [
    "El resultado es 14, una cambinación en la que si el primer huevo"
   ]
  },
  {
   "cell_type": "code",
   "execution_count": null,
   "id": "a682ea1b-9d0c-4650-8171-e4855d1854b4",
   "metadata": {},
   "outputs": [],
   "source": []
  },
  {
   "cell_type": "markdown",
   "id": "4e415cca-088b-43d6-81b4-97305276a743",
   "metadata": {},
   "source": [
    "#### Exercise 6.9\n",
    "\n",
    "**100 Lockers:** There are 100 closed lockers in a hallway. A man begins by opening all 100 lockers. Next, he closes every second locker. Then, on his third pass, he toggles every third locker (closes it if it is open or opens it if it is closed). This process continues for 100 passes, such that on each pass i, the man toggles every ith locker. After his 100th pass in the hallway, in which he toggles only locker #100, how many lockers are open?\n",
    "\n",
    "**Hints:** \n",
    "- #139:\n",
    "- #172:\n",
    "- #264:\n",
    "- #306: "
   ]
  },
  {
   "cell_type": "markdown",
   "id": "8b490cfd-0c5c-4872-94de-95b5699de810",
   "metadata": {},
   "source": [
    "- Cuadrados Perfectos. Existen exactamente 10 casillas que se quedan abiertas, ya que se abren un número impar de veces, que son con el número uno, con el número que los multiplica y con ellos mismos:\n",
    "\n",
    "- 1x1, 2x2, 3x3, 4x4, 5x5, ..., 10x10"
   ]
  },
  {
   "cell_type": "code",
   "execution_count": null,
   "id": "58d832eb-8a5f-4226-b8fc-839779211729",
   "metadata": {},
   "outputs": [],
   "source": []
  },
  {
   "cell_type": "code",
   "execution_count": null,
   "id": "b4679f0e-b52f-478e-92ba-2d070a3550f2",
   "metadata": {},
   "outputs": [],
   "source": []
  },
  {
   "cell_type": "markdown",
   "id": "b7e82f8e-2c59-4889-b5ea-7804a04e398e",
   "metadata": {},
   "source": [
    "#### Exercise 6.10\n",
    "\n",
    "**Poison:** You have 1000 bottles of soda, and exactly one is poisoned. You have 10 test strips which can be used to detect poison. A single drop of poison will turn the test strip positive permanently. You can put any number of drops on a test strip at once and you can reuse a test strip as many times as you'd like (as long as the results are negative). However, you can only run tests once per day and it takes seven days to return a result. How would you figure out the poisoned bottle in as few days as possible?\n",
    "\n",
    "FOLLOW UP\n",
    "\n",
    "Write code to simulate your approach.\n",
    "\n",
    "**Hints:**\n",
    "- #146:\n",
    "- #163:\n",
    "- #183:\n",
    "- #191:\n",
    "- #205:\n",
    "- #221:\n",
    "- #230:\n",
    "- #241:\n",
    "- #249:"
   ]
  },
  {
   "cell_type": "markdown",
   "id": "eeab4fe9-cf9c-43ea-89ed-37d143111230",
   "metadata": {},
   "source": [
    "- Cada test representa un bit de una secuencia de 10 bits en total:\n",
    "- 2^10 = 1024 convinaciones posibles.\n",
    "\n",
    "Esto significa que podemos saber en 7 días, usando los 10 tests que botella es, de un único intento"
   ]
  },
  {
   "cell_type": "markdown",
   "id": "48e5b965-46d6-4b97-8ac7-4fa8783b1e77",
   "metadata": {},
   "source": [
    "Additional Problems: Moderate Problems (#16.5), Hard Problems (#17.19)\n",
    "\n",
    "Hints start on page 662. "
   ]
  },
  {
   "cell_type": "code",
   "execution_count": null,
   "id": "f9d85419-5b38-4948-a7f3-ee66396071f6",
   "metadata": {},
   "outputs": [],
   "source": []
  }
 ],
 "metadata": {
  "kernelspec": {
   "display_name": "Python 3 (ipykernel)",
   "language": "python",
   "name": "python3"
  },
  "language_info": {
   "codemirror_mode": {
    "name": "ipython",
    "version": 3
   },
   "file_extension": ".py",
   "mimetype": "text/x-python",
   "name": "python",
   "nbconvert_exporter": "python",
   "pygments_lexer": "ipython3",
   "version": "3.11.5"
  }
 },
 "nbformat": 4,
 "nbformat_minor": 5
}
