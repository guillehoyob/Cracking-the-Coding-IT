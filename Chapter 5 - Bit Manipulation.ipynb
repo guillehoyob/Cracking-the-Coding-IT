{
 "cells": [
  {
   "cell_type": "markdown",
   "id": "945d07bd-7df9-4ad2-b4a0-93755d98bf12",
   "metadata": {},
   "source": [
    "# Import"
   ]
  },
  {
   "cell_type": "code",
   "execution_count": 1,
   "id": "d9e10f2c-53ba-4446-8cd2-b47daba54ee4",
   "metadata": {},
   "outputs": [],
   "source": [
    "# Images\n",
    "from IPython.display import Image"
   ]
  },
  {
   "cell_type": "code",
   "execution_count": null,
   "id": "2c3a1000-2c5d-41de-bbe5-0f7d7950b68c",
   "metadata": {},
   "outputs": [],
   "source": []
  },
  {
   "cell_type": "markdown",
   "id": "d8797418-6da8-47c5-89d7-b36383199dca",
   "metadata": {},
   "source": [
    "# Defining a Bits Functions"
   ]
  },
  {
   "cell_type": "markdown",
   "id": "e0447233-dc0d-49ba-bd57-cb69ab3b075e",
   "metadata": {},
   "source": [
    "### 1. getBit\r\n",
    "The getBit function is used to check whether a specific bit at position i is set (1) or not (0) in a given integer num. It does this by performing a bitwise AND operation between num and a mask that has a 1 at the i-th bit position."
   ]
  },
  {
   "cell_type": "code",
   "execution_count": 2,
   "id": "88eb622c-ed7c-44a4-baa5-0ff9e27b98d8",
   "metadata": {},
   "outputs": [],
   "source": [
    "def getBit(num, i):\n",
    "    return (num & (1 << i)) != 0"
   ]
  },
  {
   "cell_type": "code",
   "execution_count": 3,
   "id": "7d8c9b3c-753e-45c2-bd94-ca697ac55cdd",
   "metadata": {},
   "outputs": [
    {
     "name": "stdout",
     "output_type": "stream",
     "text": [
      "True\n"
     ]
    }
   ],
   "source": [
    "num = 12  # Binary: 1100\n",
    "i = 2\n",
    "result = getBit(num, i)  # Check if the bit at position 2 is set.\n",
    "print(result)  # Output: True (because bit 2 is 1)"
   ]
  },
  {
   "cell_type": "markdown",
   "id": "bf53262a-2049-413a-9fd2-b7ac43b890dc",
   "metadata": {},
   "source": [
    "The getBit function checks whether the bit at position 2 in the binary representation of num (which is 1100) is set to 1 or not. It does this by performing a bitwise AND operation with (1 << i) (which is 0001 << 2 resulting in 0100), and then checking if the result is not equal to 0."
   ]
  },
  {
   "cell_type": "markdown",
   "id": "f41052dd-0ca5-4e41-b3f3-c67a8f47463a",
   "metadata": {},
   "source": [
    "### 2. setBit\r\n",
    "The setBit function is used to set a specific bit at position i to 1 in a given integer num without affecting other bits. It does this by performing a bitwise OR operation between num and a mask that has a 1 at the i-th bit position.\r\n",
    "\r\n",
    "Here's the Python code for setBit:"
   ]
  },
  {
   "cell_type": "code",
   "execution_count": 4,
   "id": "96eea3dd-5a15-4b1d-a837-7893dd3c4fb0",
   "metadata": {},
   "outputs": [],
   "source": [
    "def setBit(num, i):\n",
    "    return num | (1 << i)"
   ]
  },
  {
   "cell_type": "code",
   "execution_count": 5,
   "id": "72fc288e-9a5a-4bc0-8f88-abe4570c8c96",
   "metadata": {},
   "outputs": [
    {
     "name": "stdout",
     "output_type": "stream",
     "text": [
      "7\n"
     ]
    }
   ],
   "source": [
    "num = 5  # Binary: 0101\n",
    "i = 1\n",
    "result = setBit(num, i)  # Set bit at position 1 to 1.\n",
    "print(result)  # Output: 7 (Binary: 0111)"
   ]
  },
  {
   "cell_type": "markdown",
   "id": "3f88f6bd-4820-4827-abf6-8c3bcac47f5a",
   "metadata": {},
   "source": [
    "### 3. clearBit\r\n",
    "The clearBit function is used to clear (set to 0) a specific bit at position i in a given integer num while leaving other bits unchanged. It does this by performing a bitwise AND operation between num and a mask where the i-th bit is 0 and all other bits are 1.\r\n",
    "\r\n",
    "Here's the Python code for clearBit:"
   ]
  },
  {
   "cell_type": "code",
   "execution_count": 6,
   "id": "e62b1ce7-630f-4bd9-9087-057da5a5dc7b",
   "metadata": {},
   "outputs": [],
   "source": [
    "def clearBit(num, i):\n",
    "    mask = ~(1 << i)  # Create a mask with the i-th bit set to 0.\n",
    "    return num & mask"
   ]
  },
  {
   "cell_type": "code",
   "execution_count": 7,
   "id": "aee28d9b-827b-455e-98b5-0861939d7878",
   "metadata": {},
   "outputs": [
    {
     "name": "stdout",
     "output_type": "stream",
     "text": [
      "11\n"
     ]
    }
   ],
   "source": [
    "num = 11  # Binary: 1011\n",
    "i = 2\n",
    "result = clearBit(num, i)  # Clear bit at position 2.\n",
    "print(result)  # Output: 3 (Binary: 0011)"
   ]
  },
  {
   "cell_type": "markdown",
   "id": "04036453-5001-453c-b159-b71e2f1abfec",
   "metadata": {},
   "source": [
    "### 4. clearBitsMSBthroughI\n",
    "The clearBitsMSBthroughI function is used to clear (set to 0) all bits from the most significant bit through i (inclusive) in a given integer num. It does this by creating a mask with i least significant bits set to 1 and the rest set to 0 and then performing a bitwise AND operation with num.\n",
    "\n",
    "Here's the Python code for clearBitsMSBthroughI:"
   ]
  },
  {
   "cell_type": "code",
   "execution_count": 8,
   "id": "accff01a-0d55-42d9-949d-6ad1b7ecb73d",
   "metadata": {},
   "outputs": [],
   "source": [
    "def clearBitsMSBthroughI(num, i):\n",
    "    mask = (1 << i) - 1  # Create a mask with i 1s in the least significant bits.\n",
    "    return num & mask"
   ]
  },
  {
   "cell_type": "code",
   "execution_count": 9,
   "id": "5750532a-6a2b-4789-8ae8-de7455b90361",
   "metadata": {},
   "outputs": [
    {
     "name": "stdout",
     "output_type": "stream",
     "text": [
      "15\n"
     ]
    }
   ],
   "source": [
    "num = 255  # Binary: 11111111\n",
    "i = 4\n",
    "result = clearBitsMSBthroughI(num, i)  # Clear bits from MSB through 4 (inclusive).\n",
    "print(result)  # Output: 15 (Binary: 00001111)"
   ]
  },
  {
   "cell_type": "markdown",
   "id": "843f252c-cc36-4dca-a30a-8b17b7f99d1f",
   "metadata": {},
   "source": [
    "### 5. clearBitsIthrough0\r\n",
    "The clearBitsIthrough0 function is used to clear (set to 0) all bits from i through 0 (inclusive) in a given integer num. It does this by creating a mask with i+1 least significant bits set to 0 and the rest set to 1 and then performing a bitwise AND operation with num.\r\n",
    "\r\n",
    "Here's the Python code for clearBitsIthrough0:"
   ]
  },
  {
   "cell_type": "code",
   "execution_count": 10,
   "id": "cf6da31d-9f9a-4368-a970-391618b4bf93",
   "metadata": {},
   "outputs": [],
   "source": [
    "def clearBitsIthrough0(num, i):\n",
    "    mask = -1 << (i + 1)  # Create a mask with i+1 0s in the least significant bits.\n",
    "    return num & mask"
   ]
  },
  {
   "cell_type": "code",
   "execution_count": 11,
   "id": "e3c7f8a1-c3cd-411e-89d2-b7c2360296f6",
   "metadata": {},
   "outputs": [
    {
     "name": "stdout",
     "output_type": "stream",
     "text": [
      "224\n"
     ]
    }
   ],
   "source": [
    "num = 255  # Binary: 11111111\n",
    "i = 4\n",
    "result = clearBitsIthrough0(num, i)  # Clear bits from 4 through 0 (inclusive).\n",
    "print(result)  # Output: 240 (Binary: 11110000)"
   ]
  },
  {
   "cell_type": "markdown",
   "id": "c8f96f95-fdb6-4b86-abd4-cef7d1ab79ce",
   "metadata": {},
   "source": [
    "### 6. updateBit\r\n",
    "The updateBit function is used to set the i-th bit of a given integer num to a specific value bitIs1. It first clears the i-th bit using a mask and then sets it to the desired value.\r\n",
    "\r\n",
    "Here's the Python code for updateBit:"
   ]
  },
  {
   "cell_type": "code",
   "execution_count": 12,
   "id": "9e9ffeb3-fd74-4d81-9309-1ea27e268b20",
   "metadata": {},
   "outputs": [],
   "source": [
    "def updateBit(num, i, bitIs1):\n",
    "    value = 1 if bitIs1 else 0\n",
    "    mask = ~(1 << i)  # Clear the i-th bit.\n",
    "    return (num & mask) | (value << i)"
   ]
  },
  {
   "cell_type": "code",
   "execution_count": 13,
   "id": "345a0daf-bcfa-4ee5-9353-e2de57510c82",
   "metadata": {},
   "outputs": [
    {
     "name": "stdout",
     "output_type": "stream",
     "text": [
      "10\n"
     ]
    }
   ],
   "source": [
    "num = 10  # Binary: 1010\n",
    "i = 1\n",
    "bitIs1 = True  # Set bit at position 1 to 1.\n",
    "result = updateBit(num, i, bitIs1)\n",
    "print(result)  # Output: 10 (Binary: 1010)"
   ]
  },
  {
   "cell_type": "code",
   "execution_count": null,
   "id": "c11cbdd5-37ce-484d-b4be-74d004e6aa55",
   "metadata": {},
   "outputs": [],
   "source": []
  },
  {
   "cell_type": "markdown",
   "id": "c0e2ce86-328d-4147-9fb7-04a5eec11562",
   "metadata": {},
   "source": [
    "# Exercises"
   ]
  },
  {
   "cell_type": "code",
   "execution_count": 15,
   "id": "51d30d7e-48d8-422a-8bec-36bf9ccfeadd",
   "metadata": {},
   "outputs": [
    {
     "data": {
      "text/plain": [
       "'bin(m)\\na = bin(m)\\nprint(a)\\na = int(a,2)\\nprint(a)'"
      ]
     },
     "execution_count": 15,
     "metadata": {},
     "output_type": "execute_result"
    }
   ],
   "source": [
    "'''bin(m)\n",
    "a = bin(m)\n",
    "print(a)\n",
    "a = int(a,2)\n",
    "print(a)'''"
   ]
  },
  {
   "cell_type": "markdown",
   "id": "5c716db4-46c2-46f3-995a-fd5b203cf72a",
   "metadata": {},
   "source": [
    "#### Exercise 5.1\n",
    "\n",
    "**Insertion:** You are given two 32-bit numbers, N and M, and two bit positions, i and j. Write a method to insert M into N such that M starts at bit j and ends at bit i. You can assume that the bits j through i have enough space to fit all of M. That is, if M = 10011, you can assume that there are at least 5 bits between j and i. You would not, for example, have j = 3 and i = 2, because M could not fully fit between bit 3 and bit 2.\n",
    "\n",
    "EXAMPLE\n",
    "\n",
    "Input: N 10000000000, M = 10011, i = 2, j = 6\n",
    "\n",
    "Output: N = 10001001100\n",
    "\n",
    "\n",
    "**Hints:** \n",
    "- #137: \n",
    "- #169: \n",
    "- #215: "
   ]
  },
  {
   "cell_type": "code",
   "execution_count": 16,
   "id": "098ff196-4387-48e0-ab63-92880aefb4c6",
   "metadata": {},
   "outputs": [
    {
     "name": "stdout",
     "output_type": "stream",
     "text": [
      "n rec  5 :  0b10001000000\n",
      "n rec  4 :  0b10001000000\n",
      "n rec  3 :  0b10001000000\n",
      "n rec  2 :  0b10001001000\n",
      "n rec  1 :  0b10001001100\n",
      "1100\n"
     ]
    }
   ],
   "source": [
    "n = int('10000000000', 2)\n",
    "m = int('10011', 2)\n",
    "i = 2\n",
    "j = 6\n",
    "\n",
    "def insertion(n, m, i, j):\n",
    "    for bm in bin(m)[2:]:\n",
    "        if bm == '1':\n",
    "            n = updateBit(n, j, True)\n",
    "        else:\n",
    "            n = updateBit(n, j, False)\n",
    "        j -= 1\n",
    "        print('n rec ', j, ': ', bin(n))\n",
    "\n",
    "    return n\n",
    "\n",
    "n = insertion(n, m, i, j)\n",
    "print(n)"
   ]
  },
  {
   "cell_type": "code",
   "execution_count": null,
   "id": "231b2848-8636-456e-af7d-906f10b26be0",
   "metadata": {},
   "outputs": [],
   "source": []
  },
  {
   "cell_type": "code",
   "execution_count": null,
   "id": "7703efc3-61ac-40df-910b-80dd7f558020",
   "metadata": {},
   "outputs": [],
   "source": []
  },
  {
   "cell_type": "markdown",
   "id": "57984e2f-69b7-428b-9a58-8027a67e235f",
   "metadata": {},
   "source": [
    "#### Exercise 5.2\n",
    "\n",
    "**Binary to String:**  Given a real number between O and 1 (e.g., 0.72) that is passed in as a double, print the binary representation. If the number cannot be represented accurately in binary with at most 3 characters, print \"ERROR\n",
    "\n",
    "**Hints:**\n",
    "- #143: \n",
    "- #167: \n",
    "- #173: \n",
    "- #269: \n",
    "- #297: "
   ]
  },
  {
   "cell_type": "code",
   "execution_count": 56,
   "id": "b2f52b21-a3ac-4bff-abc4-3bba7862c74a",
   "metadata": {},
   "outputs": [
    {
     "name": "stdout",
     "output_type": "stream",
     "text": [
      "0.101\n",
      "ERROR\n"
     ]
    }
   ],
   "source": [
    "def binary_to_string(n):\n",
    "    if n >= 1 or n <= 0:\n",
    "        return 'ERROR'\n",
    "\n",
    "    res = ['0.']\n",
    "    c = 0\n",
    "    \n",
    "    while n > 0 and c <= 2:\n",
    "        n *= 2\n",
    "        \n",
    "        if n >= 1:\n",
    "            res.append('1')\n",
    "            n = n - int(n)\n",
    "        else:\n",
    "            res.append('0')\n",
    "\n",
    "        c += 1\n",
    "\n",
    "    if n > 0:\n",
    "        return 'ERROR'\n",
    "\n",
    "    return ''.join(res)\n",
    "    \n",
    "# Test cases\n",
    "print(binary_to_string(0.625))  # Output: \"0.101\"\n",
    "print(binary_to_string(0.72))   # Output: \"ERROR\""
   ]
  },
  {
   "cell_type": "code",
   "execution_count": null,
   "id": "0680fb63-5110-4c64-8f78-a25b249a7ef7",
   "metadata": {},
   "outputs": [],
   "source": []
  },
  {
   "cell_type": "markdown",
   "id": "2961da82-57af-459e-961d-6d9c08c81105",
   "metadata": {},
   "source": [
    "#### Exercise 5.3\n",
    "\n",
    "**Flip Bit to Win:** You have an integer and you can flip exactly one bit from a 0 to a 1. Write code to find the length of the longest sequence of ls you could create. \n",
    "\n",
    "EXAMPLE\n",
    "\n",
    "Input: 1775     (or: 11011101111)\n",
    "\n",
    "Output: 8\n",
    "\n",
    "**Hints:** \n",
    "- #159:\n",
    "- #226:\n",
    "- #314:\n",
    "- #352:"
   ]
  },
  {
   "cell_type": "code",
   "execution_count": 126,
   "id": "aee4da38-d24b-42b1-9b30-11d75592cefd",
   "metadata": {},
   "outputs": [
    {
     "name": "stdout",
     "output_type": "stream",
     "text": [
      "bin_n 11011101111\n",
      "ll:  [0, 0, 4, 0, 0, 0, 8, 0, 0, 0, 0]\n",
      "l:  [4, 8]\n",
      "res:  [2, 3, 4]\n",
      "combos changing a 0 for 1:  [6, 8]\n",
      "Max Streak:  8\n",
      "index:  1  -- bit we need to change:  8\n"
     ]
    },
    {
     "data": {
      "text/plain": [
       "(8, 8)"
      ]
     },
     "execution_count": 126,
     "metadata": {},
     "output_type": "execute_result"
    }
   ],
   "source": [
    "def flip_bit_to_win(n):\n",
    "    bin_n = bin(n)\n",
    "\n",
    "    # Encontrar Rachas de 1s y sus tamaños\n",
    "    ll, res = _flip_bit_to_win_rec(n)\n",
    "\n",
    "    l = [li for li in ll if li != 0]\n",
    "    print('ll: ', ll)\n",
    "    print('l: ', l)\n",
    "    print('res: ', res)\n",
    "    # Encontrar la racha mas grande sumandola a la siguiente\n",
    "    s = []\n",
    "    ix = []\n",
    "    for i, r, v in zip(l, res[0:-1], res[1:]):\n",
    "        s.append(r+v+1)\n",
    "        ix.append(i)\n",
    "\n",
    "    print('combos changing a 0 for 1: ', s)\n",
    "    print('Max Streak: ', max(s))\n",
    "    print('index: ', s.index(max(s)), ' -- bit we need to change: ', ix[s.index(max(s))])\n",
    "\n",
    "    return max(s), ix[s.index(max(s))]\n",
    "def _flip_bit_to_win_rec(n):\n",
    "    bin_n = bin(n)\n",
    "    print('bin_n', bin_n[2:])\n",
    "    l = []\n",
    "    one_comb = []\n",
    "    one = 0\n",
    "    \n",
    "    for i, bi in enumerate(bin_n[2:]):\n",
    "        if bi == '1':\n",
    "            l.append(0)\n",
    "            one += 1\n",
    "        else:\n",
    "            l.append(2+i)\n",
    "            one_comb.append(one)\n",
    "            one = 0\n",
    "\n",
    "    one_comb.append(one)\n",
    "    return l, one_comb\n",
    "\n",
    "#_flip_bit_to_win_rec(1775)\n",
    "flip_bit_to_win(1775)"
   ]
  },
  {
   "cell_type": "code",
   "execution_count": 128,
   "id": "9fb51a10-4db6-47c3-b7f7-bf8ec82b5147",
   "metadata": {},
   "outputs": [
    {
     "name": "stdout",
     "output_type": "stream",
     "text": [
      "8\n",
      "1\n"
     ]
    }
   ],
   "source": [
    "def flip_bit_to_win_opt(n):\n",
    "    if n == 0:\n",
    "        return 1  # Edge case: If the input is 0, the result is 1 (flipping the single 0).\n",
    "\n",
    "    bin_n = bin(n)[2:]  # Convert the integer to a binary string and remove the '0b' prefix.\n",
    "    \n",
    "    max_len = 0  # Initialize the maximum length of consecutive 1s.\n",
    "    current_len = 0  # Initialize the current length of consecutive 1s.\n",
    "    prev_len = 0  # Initialize the length of the previous consecutive 1s.\n",
    "\n",
    "    for bit in bin_n:\n",
    "        if bit == '1':\n",
    "            current_len += 1\n",
    "        else:\n",
    "            # Update the maximum length if needed and reset the current length.\n",
    "            max_len = max(max_len, current_len + prev_len + 1)\n",
    "            prev_len = current_len\n",
    "            current_len = 0\n",
    "\n",
    "    # Handle the case where the last bit is 1 and needs to be flipped.\n",
    "    max_len = max(max_len, current_len + prev_len + 1)\n",
    "\n",
    "    return max_len\n",
    "\n",
    "# Test cases\n",
    "print(flip_bit_to_win_opt(1775))  # Output: 8\n",
    "print(flip_bit_to_win_opt(0))     # Output: 1 (Edge case)"
   ]
  },
  {
   "cell_type": "code",
   "execution_count": null,
   "id": "05af3d6b-6b21-4a7d-8b86-47340ba1eeb1",
   "metadata": {},
   "outputs": [],
   "source": []
  },
  {
   "cell_type": "code",
   "execution_count": null,
   "id": "02cd4ea3-4008-4d2a-b5c2-d496817c240c",
   "metadata": {},
   "outputs": [],
   "source": []
  },
  {
   "cell_type": "code",
   "execution_count": null,
   "id": "ae884f58-5179-4093-ac9d-f07dabcd8486",
   "metadata": {},
   "outputs": [],
   "source": []
  },
  {
   "cell_type": "markdown",
   "id": "177a66ec-7c18-4b28-b8a1-5d7fca2a792b",
   "metadata": {},
   "source": [
    "#### Exercise 5.4\n",
    "\n",
    "**Next Number:** Given a positive integer, print the next smallest and the next largest number that have the same number of 1 bits in their binary representation.\n",
    "\n",
    "**Hints:** \n",
    "- #147: Get Next: Start with a brute force solution for each. \n",
    "- #175: Get Next: Picture a binary number-something with a bunch of 1 s and Os spread out throughout the number. Suppose you flip a 1 to a O and a O to a 1. In what case will the number get bigger? In what case will it get smaller?\n",
    "- #242: Get Next: If you flip a 1 to a O and a O to a 1, it will get bigger if the 0-> 1 bit is more significant than the 1->0 bit. How can you use this to create the next biggest number (with the same number of 1 s)? \n",
    "- #312: Get Next: Can you flip a O to a 1 to create the next biggest number?\n",
    "- #339: Get Next: Flipping a O to a 1 will create a bigger number. The farther right the index is the smaller the bigger number is. If we have a number like 1001, we want to flip the rightmost O (to create 1011 ). But if we have a number like 1010, we should not flip the rightmost 1.\n",
    "- #358: Get Next: We should flip the rightmost non-trailing 0. The number 1010 would become 1110. Once we've done that, we need to flip a 1 to a O to make the number as small as possible, but bigger than the original number (1010). What do we do? How can we shrink the number? \n",
    "- #375: Get Next: We can shrink the number by moving all the 1 s to the right of the flipped bit as far right as possible (removing a 1 in the process).\n",
    "- #390: Get Previous: Once you've solved Get Next, try to invert the logic for Get Previous. "
   ]
  },
  {
   "cell_type": "code",
   "execution_count": 167,
   "id": "b7138dea-b485-410c-b91f-0ce13166be31",
   "metadata": {},
   "outputs": [
    {
     "name": "stdout",
     "output_type": "stream",
     "text": [
      "('10010101', '10011010')\n",
      "('01011111', '10101111')\n",
      "('10101000', '11010000')\n"
     ]
    }
   ],
   "source": [
    "n = '10011001' # - 10011010 // 10010110\n",
    "n1 = '10011111' #- 101111110 // 01111110\n",
    "n2 = '10110000' #- 101100001 // 10101000\n",
    "\n",
    "def next_number(number):\n",
    "    big_list = list(number)\n",
    "    small_list = list(number) \n",
    "    \n",
    "    # Largest Number -- From Least Significant\n",
    "    b_flag = 0 # Flag == 0; No 01 partner match // Flag == 1; 01 Match Found\n",
    "    \n",
    "    for i in range(len(number)-1, 0, -1):\n",
    "        if big_list[i-1] == '1' and big_list[i] == '0':\n",
    "            big_list[i] = '1'\n",
    "            big_list[i-1] = '0'\n",
    "            b_flag = 1\n",
    "            break\n",
    "\n",
    "    # Smallest Number -- From Least Significant\n",
    "    s_flag = 0 # Flag == 0; No 10 partner match // Flag == 1; 10 Match Found\n",
    "    \n",
    "    for i in range(len(small_list)-1, 0, -1):\n",
    "        if small_list[i-1] == '0' and small_list[i] == '1':\n",
    "            small_list[i] = '0'\n",
    "            small_list[i-1] = '1'\n",
    "            s_flag = 1\n",
    "            break\n",
    "\n",
    "    if b_flag == 0:\n",
    "        print('No larger number with same number of ones')\n",
    "        \n",
    "    if s_flag == 0:\n",
    "        print('No smalelr number with same number of ones')\n",
    "\n",
    "    return ''.join(big_list), ''.join(small_list)\n",
    "\n",
    "print(next_number(n))\n",
    "print(next_number(n1))\n",
    "print(next_number(n2))"
   ]
  },
  {
   "cell_type": "code",
   "execution_count": null,
   "id": "69f5f57c-0952-4012-b77e-b9c82ac38497",
   "metadata": {},
   "outputs": [],
   "source": []
  },
  {
   "cell_type": "code",
   "execution_count": null,
   "id": "7f1dfb19-9375-4ffb-84cb-8bd51938bf83",
   "metadata": {},
   "outputs": [],
   "source": []
  },
  {
   "cell_type": "markdown",
   "id": "1e97d8fc-2b84-4d53-90b4-80cff5bcc917",
   "metadata": {},
   "source": [
    "#### Exercise 5.5\n",
    "\n",
    "**Debugger:** Explain what the following code does: ( ( n & ( n-1)) == 0). \n",
    "\n",
    "**Hints:**\n",
    "- #151:\n",
    "- #202:\n",
    "- #261:\n",
    "- #302:\n",
    "- #346:\n",
    "- #372:\n",
    "- #383:\n",
    "- #398:"
   ]
  },
  {
   "cell_type": "markdown",
   "id": "00b9f184-2e0d-477c-b10b-86ec89b8a034",
   "metadata": {},
   "source": [
    "This code tell us if the number n represented in bits is a power of 2. If the number is a power of 2 means that there is only one bit equal to 1, so if we subtract 0001 to the sequences of bit that represent the number n, and apply the and operatin over the number and the subtraction, we ensure all the bits will be 0.\n",
    "\n",
    "Examples:\n",
    " - n = 1: n-1 = 0: 0000 and 0000 == 0 YES\n",
    " - n = 2: n-1 = 1: 0010 and 0001 == 0 YES\n",
    " - n = 3: n-1 = 2: 0011 and 0010 == 0 NO --> 0010\n",
    " - n = 16: n-1 = 15: 10000 and 1111 == 0 YES\n",
    " - n = 28: n-1 = 25: 11100 and 11011 == 0 NO --> 11000"
   ]
  },
  {
   "cell_type": "code",
   "execution_count": null,
   "id": "1718f6f4-5504-45f3-913f-9dd26c805f9b",
   "metadata": {},
   "outputs": [],
   "source": []
  },
  {
   "cell_type": "code",
   "execution_count": null,
   "id": "372126eb-578b-4bc5-9a44-a07c3de087a9",
   "metadata": {},
   "outputs": [],
   "source": []
  },
  {
   "cell_type": "code",
   "execution_count": null,
   "id": "e7926524-fe0d-4eba-8d29-3711d225f318",
   "metadata": {},
   "outputs": [],
   "source": []
  },
  {
   "cell_type": "markdown",
   "id": "faef8f7f-72a7-4514-92e2-dca920be7b31",
   "metadata": {},
   "source": [
    "#### Exercise 5.6\n",
    "\n",
    "**Conversion:** Write a function to determine the number of bits you would need to flip to convert integer A to integer B.\n",
    "\n",
    "EXAMPLE\n",
    "\n",
    "Input: 29 (or: 11101), 15 (or: 01111)\n",
    "\n",
    "Output: 2\n",
    "\n",
    "**Hints:** \n",
    "- #336: How would you figure out how many bits are different between two numbers?\n",
    "- #369: Think about what an XOR indicates. If you do a XOR b, where does the result have 1 s? Where does it have Os? "
   ]
  },
  {
   "cell_type": "code",
   "execution_count": 171,
   "id": "2192d974-01a3-4491-ae7c-d4558b9d7e74",
   "metadata": {},
   "outputs": [
    {
     "name": "stdout",
     "output_type": "stream",
     "text": [
      "a 11101\n",
      "b 1111\n",
      "10010\n"
     ]
    }
   ],
   "source": [
    "a = 29\n",
    "b = 15\n",
    "\n",
    "def conversion(a, b):\n",
    "    c = bin(a)[2:]\n",
    "    d = bin(b)[2:]\n",
    "\n",
    "    print('a', c)\n",
    "    print('b', d)\n",
    "    \n",
    "    xr = a ^ b\n",
    "    print(bin(xr)[2:])\n",
    "\n",
    "conversion(a, b)"
   ]
  },
  {
   "cell_type": "code",
   "execution_count": 177,
   "id": "f4485489-f1eb-457e-b1e2-02a311b3f53b",
   "metadata": {},
   "outputs": [
    {
     "name": "stdout",
     "output_type": "stream",
     "text": [
      "2\n"
     ]
    }
   ],
   "source": [
    "def conversion(a, b):\n",
    "    # Calculate the XOR of a and b\n",
    "    xor_result = a ^ b\n",
    "    \n",
    "    # Count the set bits (1s) in the XOR result\n",
    "    count = 0\n",
    "    while xor_result:\n",
    "        count += xor_result & 1\n",
    "        xor_result >>= 1\n",
    "\n",
    "    return count\n",
    "\n",
    "a = 29\n",
    "b = 15\n",
    "result = conversion(a, b)\n",
    "print(result)"
   ]
  },
  {
   "cell_type": "code",
   "execution_count": null,
   "id": "a8a350ea-8511-435b-9f41-8b1dd80e6587",
   "metadata": {},
   "outputs": [],
   "source": []
  },
  {
   "cell_type": "code",
   "execution_count": null,
   "id": "167c3099-4cce-4e4b-bfa5-e86b52b613e4",
   "metadata": {},
   "outputs": [],
   "source": []
  },
  {
   "cell_type": "markdown",
   "id": "db229c0a-589e-4b35-88b3-e0962deb746f",
   "metadata": {},
   "source": [
    "#### Exercise 5.7\n",
    "\n",
    "**Pairwise Swap:** Write a program to swap odd and even bits in an integer with as few instructions as possible (e.g., bit 0 and bit 1 are swapped, bit 2 and bit 3 are swapped, and so on).\n",
    "\n",
    "**Hints:** \n",
    "- #145: Swapping each pair means moving the even bits to the left and the odd bits to the right. \n",
    "Can you break this problem into parts?\n",
    "- #248: Can you create a number that represents just the even bits? Then can you shift the even \n",
    "bits over by one? \n",
    "- #328: The value 1010 in binary is 10 in decimal or OxA in hex. What will a sequence of 101010 ... \n",
    "be in hex? That is, how do you represent an alternating sequence of 1 s and Os with 1 s i \r\n",
    "the odd places? How do you do this for the reverse (1 s in the even spots)?\n",
    "- #355: Try masks 0xaaaaaaaa and 0x55555555 to select the even and odd bits. Then try \n",
    "shifting the even and odd bits around to create the right number. "
   ]
  },
  {
   "cell_type": "code",
   "execution_count": 217,
   "id": "1542bd21-f3f2-41c7-b06d-25c1bc489a04",
   "metadata": {},
   "outputs": [
    {
     "name": "stdout",
     "output_type": "stream",
     "text": [
      "pairwise:  0100  --  1111  --  1101\n",
      "['1', '0', '0', '0']\n",
      "['1', '1', '1', '1']\n",
      "['1', '1', '0', '1']\n",
      "pairwise 2:  0100  --  1111  --  1110\n"
     ]
    }
   ],
   "source": [
    "b = 8\n",
    "b2 = 15\n",
    "b3 = 13\n",
    "\n",
    "def pairwise_swap(n):\n",
    "    a = list(bin(n)[2:])\n",
    "    i = 0\n",
    "    while i < len(a)/2:\n",
    "        aux = a[i]\n",
    "        a[i] = a[i+1]\n",
    "        a[i+1] = aux\n",
    "        i += 2\n",
    "\n",
    "    return ''.join(a)\n",
    "\n",
    "def pairwise_swap2(n):\n",
    "    a = list(bin(n)[2:])\n",
    "    print(a)\n",
    "    return ''.join([a[i+1] + a[i] for i in range(0, len(a) ,2)])\n",
    "\n",
    "print('pairwise: ', pairwise_swap(b), ' -- ', pairwise_swap(b2), ' -- ', pairwise_swap(b3))\n",
    "print('pairwise 2: ', pairwise_swap2(b), ' -- ', pairwise_swap2(b2), ' -- ', pairwise_swap2(b3))"
   ]
  },
  {
   "cell_type": "code",
   "execution_count": 209,
   "id": "4933c9c7-b9a7-4594-8a36-0526bee52f8f",
   "metadata": {},
   "outputs": [
    {
     "name": "stdout",
     "output_type": "stream",
     "text": [
      "5 0b101\n"
     ]
    }
   ],
   "source": [
    "a = [1,2,3, 4]\n",
    "a = 5\n",
    "print(len(bin(a)), bin(a))"
   ]
  },
  {
   "cell_type": "code",
   "execution_count": 218,
   "id": "9eea3c99-10d4-4d0c-8e69-ea76321edd44",
   "metadata": {},
   "outputs": [
    {
     "name": "stdout",
     "output_type": "stream",
     "text": [
      "pairwise:  0b100  --  0b1111  --  0b1110\n"
     ]
    }
   ],
   "source": [
    "def pairwise_swap_opt(n):\n",
    "    # Mask for even bits (1010...)\n",
    "    even_mask = 0b10101010101010101010101010101010\n",
    "    # Mask for odd bits (0101...)\n",
    "    odd_mask = 0b01010101010101010101010101010101\n",
    "\n",
    "    # Perform bitwise AND with even_mask to get even bits, right-shift by 1\n",
    "    even_bits = (n & even_mask) >> 1\n",
    "    # Perform bitwise AND with odd_mask to get odd bits, left-shift by 1\n",
    "    odd_bits = (n & odd_mask) << 1\n",
    "\n",
    "    # Combine even and odd bits using bitwise OR\n",
    "    result = even_bits | odd_bits\n",
    "    return result\n",
    "\n",
    "b = 8\n",
    "b2 = 15\n",
    "b3 = 13\n",
    "\n",
    "print('pairwise: ', bin(pairwise_swap_opt(b)), ' -- ', bin(pairwise_swap_opt(b2)), ' -- ', bin(pairwise_swap_opt(b3)))"
   ]
  },
  {
   "cell_type": "code",
   "execution_count": null,
   "id": "1c8dd174-6e89-4508-8a9f-5ec4b3e88763",
   "metadata": {},
   "outputs": [],
   "source": []
  },
  {
   "cell_type": "markdown",
   "id": "e471250b-a8cf-4609-858d-16c322172649",
   "metadata": {},
   "source": [
    "#### Exercise 5.8\n",
    "\n",
    "**Draw Line:** A monochrome screen is stored as a single array of bytes, allowing eight consecutive pixels to be stored in one byte. The screen has width w, where w is divisible by 8 (that is, no byte will be split across rows). The height of the screen, of course, can be derived from the length of the array and the width. Implement a function that draws a horizontal line from (x1, y) to (x2, y). The method signature should look something like:\n",
    "\n",
    "drawline(byte[] screen, int width, int x1, int x2, int y)\n",
    "\n",
    "**Hints:**\n",
    "- #366: First try the naive approach. Can you set a particular \"pixel\"?\n",
    "- #381: When you're drawing a long line, you'll have entire bytes that will become a sequence of 1 s. Can you set this all at once? \n",
    "- #384: What about the start and end of the line? Do you need to set those pixels individually, or can you set them all at once? \n",
    "- #391: Does your code handle the case when xl and x2 are in the same byte?"
   ]
  },
  {
   "cell_type": "code",
   "execution_count": 228,
   "id": "7a5b23a1-afa8-49cf-a276-6a5bb9fdd6c1",
   "metadata": {},
   "outputs": [
    {
     "data": {
      "text/plain": [
       "[['x', 'x', 'x', 'x', 'x', 'x', 'x', 'x'],\n",
       " ['x', 'x', 'x', 'x', 'x', 'x', 'x', 'x'],\n",
       " ['x', 'x', 'x', 'x', 'x', 'x', 'x', 'x'],\n",
       " ['x', 'x', 'x', 'x', 'x', 'x', 'x', 'x'],\n",
       " ['x', 'x', '-', '-', '-', '-', '-', 'x'],\n",
       " ['x', 'x', 'x', 'x', 'x', 'x', 'x', 'x'],\n",
       " ['x', 'x', 'x', 'x', 'x', 'x', 'x', 'x'],\n",
       " ['x', 'x', 'x', 'x', 'x', 'x', 'x', 'x']]"
      ]
     },
     "execution_count": 228,
     "metadata": {},
     "output_type": "execute_result"
    }
   ],
   "source": [
    "w = 8\n",
    "screen = [['x' for i in range(w)] for j in range(w)]\n",
    "\n",
    "def drawline(screen, width, x1, x2, y):\n",
    "    screen[y][x1:x2] = '-' * (x2-x1)\n",
    "        \n",
    "    return screen\n",
    "\n",
    "drawline(screen, w, 2, 7, 4)"
   ]
  },
  {
   "cell_type": "code",
   "execution_count": 229,
   "id": "ff127c79-16de-427c-99f9-6f9bab962819",
   "metadata": {},
   "outputs": [],
   "source": [
    "def drawline_bitwise(screen, width, x1, x2, y):\n",
    "    # Calculate the start and end bytes for the line\n",
    "    start_byte = x1 // 8\n",
    "    end_byte = x2 // 8\n",
    "\n",
    "    # Calculate the bit masks for the start and end bytes\n",
    "    start_mask = 0xFF >> (x1 % 8)\n",
    "    end_mask = 0xFF << (7 - (x2 % 8))\n",
    "\n",
    "    # If the line spans multiple bytes, fill the whole bytes\n",
    "    if start_byte == end_byte:\n",
    "        screen[y * (width // 8) + start_byte] |= (start_mask & end_mask)\n",
    "    else:\n",
    "        screen[y * (width // 8) + start_byte] |= start_mask\n",
    "        for i in range(start_byte + 1, end_byte):\n",
    "            screen[y * (width // 8) + i] = 0xFF\n",
    "        screen[y * (width // 8) + end_byte] |= end_mask\n",
    "\n",
    "    return screen"
   ]
  },
  {
   "cell_type": "code",
   "execution_count": null,
   "id": "fd76d832-1fbc-4831-a3bb-6a7be7cf0e4f",
   "metadata": {},
   "outputs": [],
   "source": []
  },
  {
   "cell_type": "code",
   "execution_count": null,
   "id": "28d2b88d-9468-47ec-bde7-0760c6ded63e",
   "metadata": {},
   "outputs": [],
   "source": []
  },
  {
   "cell_type": "code",
   "execution_count": null,
   "id": "0eb1cc01-e7d8-4756-82a6-248a69347af4",
   "metadata": {},
   "outputs": [],
   "source": []
  },
  {
   "cell_type": "markdown",
   "id": "f60b8a22-c16c-46d1-af32-51a5d78e72f2",
   "metadata": {},
   "source": [
    "Additional Questions: Arrays and Strings (#1.1, #1.4, #1.8), Math and Logic Puzzles (#6.1 O), Recursion (#8.4, #8.14), Sorting and Searching (#10.7, #10.8), C++ (#12.10), Moderate Problems (#16.1, #16.7), Hard Problems\n",
    "(#17.1).\n",
    "\n",
    "Hints start on page 662."
   ]
  },
  {
   "cell_type": "code",
   "execution_count": null,
   "id": "dcf551fb-f017-4c5f-93de-3555d5e0b5d3",
   "metadata": {},
   "outputs": [],
   "source": []
  }
 ],
 "metadata": {
  "kernelspec": {
   "display_name": "Python 3 (ipykernel)",
   "language": "python",
   "name": "python3"
  },
  "language_info": {
   "codemirror_mode": {
    "name": "ipython",
    "version": 3
   },
   "file_extension": ".py",
   "mimetype": "text/x-python",
   "name": "python",
   "nbconvert_exporter": "python",
   "pygments_lexer": "ipython3",
   "version": "3.11.5"
  }
 },
 "nbformat": 4,
 "nbformat_minor": 5
}
