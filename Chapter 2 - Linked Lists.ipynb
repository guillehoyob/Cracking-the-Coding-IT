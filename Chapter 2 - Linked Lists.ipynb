{
 "cells": [
  {
   "cell_type": "markdown",
   "id": "945d07bd-7df9-4ad2-b4a0-93755d98bf12",
   "metadata": {},
   "source": [
    "# Import"
   ]
  },
  {
   "cell_type": "code",
   "execution_count": 198,
   "id": "d9e10f2c-53ba-4446-8cd2-b47daba54ee4",
   "metadata": {},
   "outputs": [],
   "source": [
    "# Images\n",
    "from IPython.display import Image"
   ]
  },
  {
   "cell_type": "code",
   "execution_count": null,
   "id": "2c3a1000-2c5d-41de-bbe5-0f7d7950b68c",
   "metadata": {},
   "outputs": [],
   "source": []
  },
  {
   "cell_type": "markdown",
   "id": "d8797418-6da8-47c5-89d7-b36383199dca",
   "metadata": {},
   "source": [
    "# Defining a Linked List"
   ]
  },
  {
   "cell_type": "code",
   "execution_count": 5,
   "id": "5987708a-7161-490d-865b-a842748b0b99",
   "metadata": {},
   "outputs": [
    {
     "data": {
      "text/html": [
       "<img src=\"https://i0.wp.com/techvidvan.com/tutorials/wp-content/uploads/sites/2/2021/06/Doubly-linked-list-in-DS-1.jpg?fit=1200%2C628&ssl=1\"/>"
      ],
      "text/plain": [
       "<IPython.core.display.Image object>"
      ]
     },
     "execution_count": 5,
     "metadata": {},
     "output_type": "execute_result"
    }
   ],
   "source": [
    "Image(url='https://i0.wp.com/techvidvan.com/tutorials/wp-content/uploads/sites/2/2021/06/Doubly-linked-list-in-DS-1.jpg?fit=1200%2C628&ssl=1')"
   ]
  },
  {
   "cell_type": "code",
   "execution_count": 20,
   "id": "dff95c24-1cb2-4f81-b854-125bdaa6a7c2",
   "metadata": {},
   "outputs": [],
   "source": [
    "class Node:\n",
    "    def __init__(self, data):\n",
    "        self.prev = None\n",
    "        self.data = data\n",
    "        self.next = None"
   ]
  },
  {
   "cell_type": "code",
   "execution_count": 738,
   "id": "4dc32ffe-551a-4e68-98f4-b5764cc219f3",
   "metadata": {},
   "outputs": [],
   "source": [
    "class LinkedList:\n",
    "    def __init__(self, data=None):\n",
    "        self.head = None\n",
    "        self.tail = None\n",
    "\n",
    "        if data != None:\n",
    "            if type(data) == int:\n",
    "                self.append(data)\n",
    "            else:\n",
    "                self.append_multiple(data)\n",
    "\n",
    "    def append(self, data):\n",
    "        node = self.head\n",
    "        if node == None:\n",
    "            self.head = self.tail = Node(data)\n",
    "        else:\n",
    "            self.tail.next = Node(data)\n",
    "            self.tail.next.prev = self.tail\n",
    "            self.tail = self.tail.next\n",
    "            \n",
    "    def append_multiple(self, datas):\n",
    "        for d in datas:\n",
    "            self.append(d)\n",
    "\n",
    "    def append_in_poss(self, data, poss):\n",
    "        node = self.head\n",
    "        if node == None and poss != 0:\n",
    "            print('Error, list = Null')\n",
    "        elif poss > self.length():\n",
    "            print('The position is too far from reality')\n",
    "        elif node == None and poss == 0:\n",
    "            print('Append')\n",
    "            self.append(data)\n",
    "        elif node != None and poss == 0:\n",
    "            new_node = Node(data)\n",
    "            node.prev = new_node\n",
    "            new_node.next = node\n",
    "            self.head = new_node\n",
    "        elif node != None and poss == self.length():\n",
    "            print('Append in Tail')\n",
    "            self.append(data)\n",
    "        else:\n",
    "            counter = 0\n",
    "            while node:\n",
    "                if counter == poss:\n",
    "                    new_node = Node(data)\n",
    "                    new_node.prev = node.prev\n",
    "                    node.prev.next = new_node\n",
    "                    node.prev = new_node\n",
    "                    new_node.next = node\n",
    "                counter += 1\n",
    "                node = node.next\n",
    "        \n",
    "    def display(self):\n",
    "        node = self.head\n",
    "        if node == None:\n",
    "            print('Lista Vacía')\n",
    "        elif node == self.tail:\n",
    "            print('None <-- ', node.data, ' --> None')\n",
    "        else:\n",
    "            while node.next:\n",
    "                if node.prev == None: prev = 'None'\n",
    "                else: prev = node.prev.data\n",
    "                if node.next == None: next = 'None'\n",
    "                else: next = node.next.data\n",
    "                \n",
    "                print(prev, ' <-- ', node.data, ' --> ', next)\n",
    "                node = node.next\n",
    "            if node.prev == None: prev = 'None'\n",
    "            else: prev = node.prev.data\n",
    "            if node.next == None: next = 'None'\n",
    "            else: next = node.next.data\n",
    "            print(prev, ' <-- ', node.data, ' --> None')\n",
    "        print('--------------')\n",
    "\n",
    "    def delete(self, data):\n",
    "        node = self.head\n",
    "        if node.data == data:\n",
    "            node.next.prev = None\n",
    "            self.head = node.next\n",
    "        elif self.tail.data == data:\n",
    "            self.tail.prev.next = None\n",
    "            self.tail = self.tail.prev\n",
    "        else:\n",
    "            while node:\n",
    "                if node.data == data:\n",
    "                    node.next.prev = node.prev\n",
    "                    node.prev.next = node.next\n",
    "                node = node.next\n",
    "                \n",
    "    def length(self):\n",
    "        count = 0\n",
    "        node = self.head\n",
    "        if node == None:\n",
    "            return count\n",
    "        else:\n",
    "            count +=1\n",
    "            while node.next:\n",
    "                count +=1\n",
    "                node = node.next\n",
    "        return count\n",
    "\n",
    "    def values(self):\n",
    "        node = self.head\n",
    "        while node != None:\n",
    "            print(node.data, end=' ')\n",
    "            node = node.next\n",
    "        print('')\n",
    "        print('--------------')\n"
   ]
  },
  {
   "cell_type": "code",
   "execution_count": 146,
   "id": "5b5afdc7-4d68-4c04-946d-8cbceed4868a",
   "metadata": {},
   "outputs": [
    {
     "name": "stdout",
     "output_type": "stream",
     "text": [
      "Lista Vacía\n",
      "--------------\n",
      "None <--  4  --> None\n",
      "--------------\n",
      "None  <--  4  -->  6\n",
      "4  <--  6  -->  8\n",
      "6  <--  8  --> None\n",
      "--------------\n",
      "head = 4  tail =  8  length:  3\n"
     ]
    }
   ],
   "source": [
    "l = LinkedList()\n",
    "l.display()\n",
    "l.append(4)\n",
    "l.display()\n",
    "l.append(6)\n",
    "l.append(8)\n",
    "l.display()\n",
    "print('head =', l.head.data, ' tail = ', l.tail.data, ' length: ', l.length())\n"
   ]
  },
  {
   "cell_type": "code",
   "execution_count": 122,
   "id": "3300dccf-d58b-40da-9ce7-5e10a6fb03e9",
   "metadata": {},
   "outputs": [
    {
     "name": "stdout",
     "output_type": "stream",
     "text": [
      "None  <--  6  -->  8\n",
      "6  <--  8  --> None\n",
      "--------------\n",
      "head = 6  tail =  8  length:  2\n"
     ]
    }
   ],
   "source": [
    "l = LinkedList()\n",
    "l.append_multiple([4,6,8])\n",
    "l.delete(4)\n",
    "l.display()\n",
    "print('head =', l.head.data, ' tail = ', l.tail.data, ' length: ', l.length())"
   ]
  },
  {
   "cell_type": "code",
   "execution_count": 123,
   "id": "f6549fb0-8042-425d-95b9-0df9241616d7",
   "metadata": {},
   "outputs": [
    {
     "name": "stdout",
     "output_type": "stream",
     "text": [
      "None  <--  4  -->  8\n",
      "4  <--  8  --> None\n",
      "--------------\n",
      "head = 4  tail =  8  length:  2\n"
     ]
    }
   ],
   "source": [
    "l = LinkedList()\n",
    "l.append_multiple([4,6,8])\n",
    "l.delete(6)\n",
    "l.display()\n",
    "print('head =', l.head.data, ' tail = ', l.tail.data, ' length: ', l.length())"
   ]
  },
  {
   "cell_type": "code",
   "execution_count": 124,
   "id": "c8f980b5-655b-4459-8c46-06a6d87df4e1",
   "metadata": {},
   "outputs": [
    {
     "name": "stdout",
     "output_type": "stream",
     "text": [
      "None  <--  4  -->  6\n",
      "4  <--  6  --> None\n",
      "--------------\n",
      "head = 4  tail =  6  length:  2\n"
     ]
    }
   ],
   "source": [
    "l = LinkedList()\n",
    "l.append_multiple([4,6,8])\n",
    "l.delete(8)\n",
    "l.display()\n",
    "print('head =', l.head.data, ' tail = ', l.tail.data, ' length: ', l.length())"
   ]
  },
  {
   "cell_type": "code",
   "execution_count": 137,
   "id": "458004ea-66cf-4097-ae80-785285d2c4c6",
   "metadata": {},
   "outputs": [
    {
     "name": "stdout",
     "output_type": "stream",
     "text": [
      "Append in Tail\n",
      "None  <--  4  -->  6\n",
      "4  <--  6  -->  8\n",
      "6  <--  8  -->  17\n",
      "8  <--  17  --> None\n",
      "--------------\n",
      "head = 4  tail =  17  length:  4\n"
     ]
    }
   ],
   "source": [
    "l = LinkedList()\n",
    "l.append_multiple([4,6,8])\n",
    "l.append_in_poss(17, 3)\n",
    "l.display()\n",
    "print('head =', l.head.data, ' tail = ', l.tail.data, ' length: ', l.length())"
   ]
  },
  {
   "cell_type": "code",
   "execution_count": 138,
   "id": "0e703b44-1882-47f0-8fec-06916ebfde53",
   "metadata": {},
   "outputs": [
    {
     "name": "stdout",
     "output_type": "stream",
     "text": [
      "The position is too far from reality\n",
      "None  <--  4  -->  6\n",
      "4  <--  6  -->  8\n",
      "6  <--  8  --> None\n",
      "--------------\n",
      "head = 4  tail =  8  length:  3\n"
     ]
    }
   ],
   "source": [
    "l = LinkedList()\n",
    "l.append_multiple([4,6,8])\n",
    "l.append_in_poss(17, 4)\n",
    "l.display()\n",
    "print('head =', l.head.data, ' tail = ', l.tail.data, ' length: ', l.length())"
   ]
  },
  {
   "cell_type": "markdown",
   "id": "c0e2ce86-328d-4147-9fb7-04a5eec11562",
   "metadata": {},
   "source": [
    "# Exercises"
   ]
  },
  {
   "cell_type": "markdown",
   "id": "2ba3e673-74d6-4d98-8cdb-59891b2eec8b",
   "metadata": {},
   "source": [
    "### Exercise 2.1\n",
    "\n",
    "**Remove Dups!** Write code to remove duplicates from an unsorted linked list.\n",
    "\n",
    "FOLLOW UP\n",
    "\n",
    "How would you solve this problem if a temporary buffer is not allowed?\n",
    "\n",
    "Hints:\n",
    "- #9: Have you tried a hash table? You should be able to do this in a single pass of the linked list\n",
    "- #49: What if you could modify the binary tree node class to allow a node to store the height of its subtree?? \n"
   ]
  },
  {
   "cell_type": "code",
   "execution_count": 231,
   "id": "6880101c-4b2d-4f8f-a3db-a3d9853bfa9e",
   "metadata": {},
   "outputs": [
    {
     "name": "stdout",
     "output_type": "stream",
     "text": [
      "None  <--  1  -->  4\n",
      "1  <--  4  -->  5\n",
      "4  <--  5  -->  8\n",
      "5  <--  8  -->  1\n",
      "8  <--  1  -->  8\n",
      "1  <--  8  -->  2\n",
      "8  <--  2  -->  3\n",
      "2  <--  3  -->  7\n",
      "3  <--  7  -->  4\n",
      "7  <--  4  -->  9\n",
      "4  <--  9  -->  9\n",
      "9  <--  9  --> None\n",
      "--------------\n",
      "1 4 5 8 1 8 2 3 7 4 9 9 "
     ]
    }
   ],
   "source": [
    "l = LinkedList()\n",
    "l.append_multiple([1,4,5,8,1,8,2,3,7,4,9,9])\n",
    "l.display()\n",
    "l.values()"
   ]
  },
  {
   "cell_type": "code",
   "execution_count": 289,
   "id": "7ef9af55-8996-4905-91d5-5dec851cfdcc",
   "metadata": {},
   "outputs": [],
   "source": [
    "def rem_rep(list):\n",
    "    if list.length() <= 1:\n",
    "        print('Unique List')\n",
    "        return list\n",
    "    \n",
    "    else:\n",
    "        node1 = list.head\n",
    "        node2 = list.head.next\n",
    "        while node1.next != None:\n",
    "            while node2.next != None:    \n",
    "                #print('n1-', node1.data, 'n2-', node2.data)\n",
    "                if node1.data == node2.data:\n",
    "                    node2.next.prev = node2.prev\n",
    "                    node2.prev.next = node2.next\n",
    "                    #print('rep', node2.data)\n",
    "                node2 = node2.next\n",
    "            node1 = node1.next\n",
    "            node2 = node1.next\n",
    "            #print('-----------------')\n",
    "\n",
    "        node1 = list.tail.prev\n",
    "        node2 = list.tail\n",
    "        if node1.data == node2.data:\n",
    "            node2.prev = node1.prev\n",
    "            node1.prev.next = node1.next\n",
    "    return(list)"
   ]
  },
  {
   "cell_type": "code",
   "execution_count": 290,
   "id": "7552b8a5-1819-4cde-b9fb-64f1862517ad",
   "metadata": {},
   "outputs": [
    {
     "name": "stdout",
     "output_type": "stream",
     "text": [
      "None  <--  1  -->  4\n",
      "1  <--  4  -->  5\n",
      "4  <--  5  -->  8\n",
      "5  <--  8  -->  2\n",
      "8  <--  2  -->  3\n",
      "2  <--  3  -->  7\n",
      "3  <--  7  -->  9\n",
      "7  <--  9  --> None\n",
      "--------------\n",
      "1 4 5 8 2 3 7 9 [1, 4, 5, 8, 2, 3, 7, 9]\n"
     ]
    }
   ],
   "source": [
    "l = LinkedList()\n",
    "l.append_multiple([1,1,4,5,8,1,8,2,3,7,4,9,9])\n",
    "solution = [1,4,5,8,2,3,7,9]\n",
    "l = rem_rep(l)\n",
    "l.display()\n",
    "l.values()\n",
    "\n",
    "print(solution)"
   ]
  },
  {
   "cell_type": "markdown",
   "id": "ffe8bdf1-1141-4681-94dc-9e7435d98fc2",
   "metadata": {},
   "source": [
    "### Exercise 2.2\n",
    "\n",
    "**Return Kth to Last**: Implement an algorithm to find the kth to last element of a singly linked list.\n",
    "\n",
    "Hints:\n",
    "- #8: What if you knew the linked list size? What is the difference between finding the Kth-tolast element and finding the Xth element?\n",
    "- #25: If you don't know the linked list size, can you compute it? How does this impact the runtime?\n",
    "- #41: Try implementing it recursively. If you could find the (K-l)th to last element, can you find the Kth element?\n",
    "- #67: You might find it useful to return multiple values. Some languages don't directly support this, but there are workarounds in essentially any language. What are some of those workarounds? \n",
    "- #126: Can you do it iteratively? Imagine if you had two pointers pointing to adjacent nodes and they were moving at the same speed through the linked list. When one hits the end of the linked list, where will the other be?e?126:"
   ]
  },
  {
   "cell_type": "code",
   "execution_count": 372,
   "id": "c5b6c04c-72ee-43e7-8d1f-1b5804ac6375",
   "metadata": {},
   "outputs": [],
   "source": [
    "def find_K_withLen(lst, k):\n",
    "    length = lst.length()\n",
    "\n",
    "    if k >= length or k < 0:\n",
    "        raise ValueError('Invalid k index')\n",
    "\n",
    "    node = lst.head\n",
    "    counter = 0\n",
    "    while node:\n",
    "        if counter == k:\n",
    "            return node\n",
    "        counter += 1\n",
    "        node = node.next"
   ]
  },
  {
   "cell_type": "code",
   "execution_count": 380,
   "id": "f05993e3-9aa2-4dba-861d-fbce36044af2",
   "metadata": {},
   "outputs": [
    {
     "name": "stdout",
     "output_type": "stream",
     "text": [
      "K Elements\n",
      "3 --> 4 --> 5 --> 6 --> "
     ]
    }
   ],
   "source": [
    "l = LinkedList()\n",
    "l.append_multiple([1,2,3,4,5,6])\n",
    "result = find_K_withLen(l, 2)\n",
    "print('K Elements')\n",
    "while result != None:\n",
    "    print(result.data, end=' --> ')\n",
    "    result = result.next"
   ]
  },
  {
   "cell_type": "markdown",
   "id": "906d215f-714b-49e7-a6e5-d0abd744d63d",
   "metadata": {},
   "source": [
    "#### Lógica Leador Follower - Encuentra los K últimos elementos\n",
    "Hay 2 punteros:\n",
    "- Leader: avanza siempre para llegar al final\n",
    "- Follower: Avanza según una condición\n",
    "\n",
    "En este caso, Leader avanza de uno en uno, y follower avanza uno, únicamente si count es >= k. Por lo tanto,\n",
    "Cuando leader llegue al final, follower habrá avanzado un total de \n",
    "\n",
    "#### Lógica de recursión\n",
    "- primera función: crea contador y coge el primer elemento de la lista, Devuelve el retorno de la función recursiva.\n",
    "- Funcion Recursiva:\n",
    "    - Si el Puntero Head == None. Return None\n",
    "    - Llamada Recursiva a FuncionRec(head.next, k)\n",
    "    - Sumas al counter Global\n",
    "    - Si el Counter Global es == K. Return Head Pointer\n",
    "    - Si no. Return Rec_Node\n",
    " \n",
    "Return Rec_Node --> Este return devuelve:\n",
    " - Al principio NONE mientras que aun counter nunca a sido == K\n",
    " - Cuando K fué ya == K. Entonces Rec_Node Arrastra el ese valor head."
   ]
  },
  {
   "cell_type": "code",
   "execution_count": 374,
   "id": "feffdfe5-8459-4fbd-b0e3-e9120f05f85f",
   "metadata": {},
   "outputs": [],
   "source": [
    "def kth_to_last_leader_follower(ll, k):\n",
    "    leader = follower = ll.head\n",
    "    count = 0\n",
    "\n",
    "    while leader:\n",
    "        if count >= k:\n",
    "            follower = follower.next\n",
    "        count += 1\n",
    "        leader = leader.next\n",
    "    return follower"
   ]
  },
  {
   "cell_type": "code",
   "execution_count": 375,
   "id": "bab00685-37db-4c9b-becd-ef49384625ae",
   "metadata": {},
   "outputs": [],
   "source": [
    "# O(N) space\n",
    "def kth_last_recursive(ll, k):\n",
    "    head = ll.head\n",
    "    counter = 0\n",
    "\n",
    "    def helper(head, k):\n",
    "        nonlocal counter\n",
    "        if not head:\n",
    "            return None\n",
    "        helper_node = helper(head.next, k)\n",
    "        counter = counter + 1\n",
    "        if counter == k:\n",
    "            return head\n",
    "        return helper_node\n",
    "\n",
    "    return helper(head, k)"
   ]
  },
  {
   "cell_type": "code",
   "execution_count": 376,
   "id": "2f252515-b1c2-4f43-a7ad-bcca87797e3b",
   "metadata": {},
   "outputs": [
    {
     "name": "stdout",
     "output_type": "stream",
     "text": [
      "3 --> 4 --> 5 --> 6 --> "
     ]
    }
   ],
   "source": [
    "l = LinkedList()\n",
    "l.append_multiple([1,2,3,4,5,6])\n",
    "k = 3\n",
    "result = kth_to_last_leader_follower(l,4)\n",
    "while result:\n",
    "    print(result.data, end=' --> ')\n",
    "    result = result.next"
   ]
  },
  {
   "cell_type": "code",
   "execution_count": 377,
   "id": "c7609164-3223-408d-9b2a-c2af0409ef0f",
   "metadata": {},
   "outputs": [
    {
     "name": "stdout",
     "output_type": "stream",
     "text": [
      "3 --> 4 --> 5 --> 6 --> "
     ]
    }
   ],
   "source": [
    "l = LinkedList()\n",
    "l.append_multiple([1,2,3,4,5,6])\n",
    "k = 3\n",
    "result = kth_last_recursive(l,4)\n",
    "while result:\n",
    "    print(result.data, end=' --> ')\n",
    "    result = result.next"
   ]
  },
  {
   "cell_type": "code",
   "execution_count": null,
   "id": "f59163a1-a4d3-4d2b-8f0b-64ac70a1f715",
   "metadata": {},
   "outputs": [],
   "source": []
  },
  {
   "cell_type": "markdown",
   "id": "84f6c356-7c56-4285-acf9-763efb12d450",
   "metadata": {},
   "source": [
    "### Exercise 2.3\n",
    "\n",
    "**Delete Middle Node:** Implement an algorithm to delete a node in the middle (i.e., any node but the first and last node, not necessarily the exact middle) of a singly linked list, given only access to that node.\n",
    "\n",
    "EXAMPLE:\n",
    "\n",
    "lnput:the node c from the linked list a -> b -> c -> d -> e -> f\n",
    "\n",
    "Result: nothing is returned, but the new linked list looks like a -> b -> d -> e -> f\n",
    "\n",
    "**Hints:**\n",
    "- #72: Picture the list 1 -> 5 -> 9 -> 12. Removing 9 would make it look like 1 -> 5 -> 12. You only have access to the 9 node. Can you make it look like the correct answer??"
   ]
  },
  {
   "cell_type": "code",
   "execution_count": 393,
   "id": "07ac40b1-0ec4-4a8c-85c2-b08185e48d96",
   "metadata": {},
   "outputs": [],
   "source": [
    "def delete_middle(n):\n",
    "    n.prev.next = n.next\n",
    "    n.next.prev = n.prev"
   ]
  },
  {
   "cell_type": "code",
   "execution_count": 394,
   "id": "c7f15285-c5e8-4883-b1ef-3dc6bb87785c",
   "metadata": {},
   "outputs": [
    {
     "name": "stdout",
     "output_type": "stream",
     "text": [
      "None  <--  1  -->  5\n",
      "1  <--  5  -->  9\n",
      "5  <--  9  -->  12\n",
      "9  <--  12  --> None\n",
      "--------------\n",
      "None  <--  1  -->  5\n",
      "1  <--  5  -->  12\n",
      "5  <--  12  --> None\n",
      "--------------\n"
     ]
    }
   ],
   "source": [
    "l = LinkedList()\n",
    "l.append_multiple([1,5,9,12])\n",
    "l.display()\n",
    "delete_middle(l.head.next.next)\n",
    "l.display()"
   ]
  },
  {
   "cell_type": "markdown",
   "id": "8f3189f1-024e-4598-9098-36abe5e07739",
   "metadata": {},
   "source": [
    "### Exercise 2.4\n",
    "\n",
    "**Partition:** Write code to partition a linked list around a value x, such that all nodes less than x come before all nodes greater than or equal to x. If x is contained within the list, the values of x only need to be after the elements less than x (see below). The partition element x can appear anywhere in the \"right partition\"; it does not need to appear between the left and right partitions.\n",
    "\n",
    "EXAMPLE\n",
    "\n",
    "Input: 3 -> 5 -> 8 -> 5 -> 10 -> 2 -> 1 [partition= 5]\n",
    "\n",
    "Output: 3 -> 1 -> 2 -> 10 -> 5 -> 5 -> 8\n",
    "\n",
    "**Hints:** \n",
    "- #3: There are many solutions to this problem, most of which are equally optimal in runtime. Some have shorter, cleaner code than others. Can you brainstorm different solutions? \n",
    "- #24: Consider that the elements don't have to stay in the same relative order. We only need to ensure that elements less than the pivot must be before elements greater than the pivot. Does that help you come up with more solutions? "
   ]
  },
  {
   "cell_type": "code",
   "execution_count": 425,
   "id": "57718248-810a-47a6-bc54-3a1179893928",
   "metadata": {},
   "outputs": [],
   "source": [
    "def partition(l, x):\n",
    "    node = l.head\n",
    "    smalllist = []\n",
    "    biglist = []\n",
    "    \n",
    "    if node == None:\n",
    "        print('Empty list')\n",
    "    elif node == tail:\n",
    "        print('Onle element list')\n",
    "    while node:\n",
    "        if node.data < x:\n",
    "            smalllist.append(node.data)\n",
    "        else:\n",
    "            biglist.append(node.data)\n",
    "        node = node.next\n",
    "    return smalllist + biglist\n"
   ]
  },
  {
   "cell_type": "code",
   "execution_count": 431,
   "id": "35e0b230-1d03-4351-8b26-0e7f4ec689ce",
   "metadata": {},
   "outputs": [
    {
     "name": "stdout",
     "output_type": "stream",
     "text": [
      "None  <--  3  -->  5\n",
      "3  <--  5  -->  8\n",
      "5  <--  8  -->  5\n",
      "8  <--  5  -->  10\n",
      "5  <--  10  -->  2\n",
      "10  <--  2  -->  1\n",
      "2  <--  1  --> None\n",
      "--------------\n",
      "None  <--  3  -->  2\n",
      "3  <--  2  -->  1\n",
      "2  <--  1  -->  5\n",
      "1  <--  5  -->  8\n",
      "5  <--  8  -->  5\n",
      "8  <--  5  -->  10\n",
      "5  <--  10  --> None\n",
      "--------------\n",
      "3 2 1 5 8 5 10 "
     ]
    }
   ],
   "source": [
    "l = LinkedList()\n",
    "l.append_multiple([3,5,8,5,10,2,1])\n",
    "l.display()\n",
    "type(l)\n",
    "la = partition(l,5)\n",
    "l = LinkedList()\n",
    "l.append_multiple(la)\n",
    "l.display()\n",
    "l.values()"
   ]
  },
  {
   "cell_type": "code",
   "execution_count": 510,
   "id": "67e7b654-dc03-4c5e-8042-104980c1734f",
   "metadata": {},
   "outputs": [],
   "source": [
    "def partition_no_struct(l, x):\n",
    "    node = l.head\n",
    "    flag = l.head\n",
    "    count = 0\n",
    "    \n",
    "    if node == None:\n",
    "        print('Empty list')\n",
    "    elif node == l.tail:\n",
    "        print('Onle element list')\n",
    "    \n",
    "    while node:\n",
    "        if count != 0:\n",
    "            print('c: ', count, ' -- ', flag.data, node.data)\n",
    "            if node.data < x:\n",
    "                print('\\t \\\\//')\n",
    "                if node.next != None:\n",
    "                    print('a')\n",
    "                    node.prev.next = node.next\n",
    "                    node.next.prev = node.prev\n",
    "                    node.next = flag.next\n",
    "                    node.prev = flag\n",
    "                    flag.next.prev = node\n",
    "                    flag.next = node\n",
    "                    flag = flag.next\n",
    "                else:\n",
    "                    print('b')\n",
    "                    node.prev.next = None\n",
    "                    node.next = flag.next\n",
    "                    node.prev = flag\n",
    "                    flag.next.prev = node\n",
    "                    flag.next = node\n",
    "                    flag = flag.next\n",
    "        node = node.next\n",
    "        count += 1"
   ]
  },
  {
   "cell_type": "code",
   "execution_count": 517,
   "id": "220eb8d8-2696-4219-b198-7c6bd35f3753",
   "metadata": {},
   "outputs": [
    {
     "name": "stdout",
     "output_type": "stream",
     "text": [
      "c:  1  --  3 5\n",
      "c:  2  --  3 8\n",
      "c:  3  --  3 5\n",
      "c:  4  --  3 10\n",
      "c:  5  --  3 2\n",
      "\t \\//\n",
      "a\n",
      "c:  6  --  2 5\n",
      "c:  7  --  2 8\n",
      "c:  8  --  2 5\n",
      "c:  9  --  2 10\n",
      "c:  10  --  2 1\n",
      "\t \\//\n",
      "b\n",
      "c:  11  --  1 5\n",
      "c:  12  --  1 8\n",
      "c:  13  --  1 5\n",
      "c:  14  --  1 10\n",
      "------------------\n",
      "3 2 1 5 8 5 10 \n",
      "------------------\n",
      "None  <--  3  -->  2\n",
      "3  <--  2  -->  1\n",
      "2  <--  1  -->  5\n",
      "1  <--  5  -->  8\n",
      "5  <--  8  -->  5\n",
      "8  <--  5  -->  10\n",
      "5  <--  10  --> None\n",
      "--------------\n"
     ]
    }
   ],
   "source": [
    "l = LinkedList()\n",
    "l.append_multiple([3,5,8,5,10,2,1])\n",
    "partition_no_struct(l,5)\n",
    "print('------------------')\n",
    "l.values()\n",
    "print('------------------')\n",
    "l.display()"
   ]
  },
  {
   "cell_type": "markdown",
   "id": "93421a48-37ec-4735-84b4-562157bd79ff",
   "metadata": {},
   "source": [
    "### Exercise 2.5\n",
    "\n",
    "**Sum Lists:** You have two numbers represented by a linked list, where each node contains a single digit. The digits are stored in reverse order, such that the 1 's digit is at the head of the list. Write a function that adds the two numbers and returns the sum as a linked list.\n",
    "\n",
    "EXAMPLE\n",
    "\n",
    "Input: (7-> 1 -> 6) + (5 -> 9 -> 2).That is,617 + 295.\n",
    "\n",
    "Output: 2 -> 1 -> 9. That is, 912.\n",
    "\n",
    "FOLLOW UP\n",
    "\n",
    "Suppose the digits are stored in forward order. Repeat the above problem.\n",
    "\n",
    "EXAMPLE\n",
    "\n",
    "lnput:(6 -> 1 -> 7) + (2 -> 9 -> 5).That is,617 + 295.\n",
    "\n",
    "Output: 9 -> 1 -> 2. That is, 912.\n",
    "\n",
    "**Hints:** \n",
    "- #7: Of course, you could convert the linked lists to integers, compute the sum, and then convert it back to a new linked list. If you did this in an interview, your interviewer would likely accept the answer, and then see if you could do this without converting it to a number and back. \n",
    "- #30: Try recursion. Suppose you have two lists, A = 1 -> 5 -> 9 (representing 951) and B 2 -> 3 -> 6 -> 7 (representing 7632), and a function that operates on the remainder of the lists (5 -> 9 and 3 -> 6 -> 7). Could you use this to create the sum method? What is the relationship between sum(l -> 5 -> 9, 2 -> 3 -> 6 -> 7) and sum(5 -> 9, 3 -> 6 -> 7)?\n",
    "- #71: Make sure you have considered linked lists that are not the same length.\n",
    "- #95: Does your algorithm work on linked lists like 9->7->8 and 6->8->5? Double check that.\n",
    "- #109: For the follow-up question: The issue is that when the linked lists aren't the same length, the head of one linked list might represent the 1 OOO's place while the other represents the 1 O's place. What if you made them the same length? Is there a way to modify the linked list to do that, without changing the value it represents? "
   ]
  },
  {
   "cell_type": "code",
   "execution_count": 634,
   "id": "4db8a39c-50ac-448a-8b6a-f0a4c051760f",
   "metadata": {},
   "outputs": [],
   "source": [
    "def sum_lists(l1, l2, rev):\n",
    "    res = LinkedList()\n",
    "    a,b,r = 0,0,0\n",
    "    if rev != 0:\n",
    "        if rev == 1:\n",
    "            print('First List Reversed')\n",
    "            a = linked_sum(l1)\n",
    "        elif rev == 2:\n",
    "            print('Second list Reversed')\n",
    "            b = linked_sum(l2)\n",
    "        elif rev > 2:\n",
    "            print('None of the lists are Reverte** ')\n",
    "            a = linked_sum(l1)\n",
    "            b = linked_sum(l2)\n",
    "        r = a+b\n",
    "        print('a: ', a, ' - b: ', b, ' - r: ', r)\n",
    "        print('----------------------------------')\n",
    "        print(type(list(str(r))))\n",
    "        print(list(str(r)))\n",
    "        res.append_multiple(list(str(r)))\n",
    "    else:\n",
    "        print('None of the lists are Reverte** ')\n",
    "        a = reverse_linked_sum(l1)\n",
    "        b = reverse_linked_sum(l2)\n",
    "        r = a+b\n",
    "        print('a: ', a, ' - b: ', b, ' - r: ', r)\n",
    "        print('----------------------------------')\n",
    "        res.append_multiple(list(str(r)))\n",
    "            \n",
    "    return res\n",
    "    \n",
    "def reverse_linked_sum(l1):\n",
    "    node = l1.head\n",
    "    c = 0\n",
    "    if node == None:\n",
    "        return 0\n",
    "        \n",
    "    def recc(no):\n",
    "        nonlocal c\n",
    "        if c == 0:\n",
    "            c = 10\n",
    "        else:\n",
    "            c = c*10\n",
    "        #print('c', c)\n",
    "        if no != None:\n",
    "            #print('no.data', no.data)\n",
    "            return no.data*c + recc(no.next)\n",
    "        return 0\n",
    "        \n",
    "    return node.data + recc(node.next)\n",
    "\n",
    "def linked_sum(l1):\n",
    "    node = l1.tail\n",
    "    c = int(1*(10**(l1.length())))\n",
    "    if node == None:\n",
    "        return 0\n",
    "        \n",
    "    def recc(no):\n",
    "        nonlocal c\n",
    "        if c != 1:\n",
    "            c = int(c/10)\n",
    "        print('c', c)\n",
    "        if no != None:\n",
    "            #print('no.data', no.data)\n",
    "            return no.data*c + recc(no.prev)\n",
    "        return 0\n",
    "        \n",
    "    return node.data + recc(node.prev)"
   ]
  },
  {
   "cell_type": "code",
   "execution_count": 635,
   "id": "38ee13d6-c896-47d5-9ab6-79e67fda14fc",
   "metadata": {},
   "outputs": [
    {
     "name": "stdout",
     "output_type": "stream",
     "text": [
      "None of the lists are Reverte** \n",
      "a:  617  - b:  295  - r:  912\n",
      "----------------------------------\n",
      "None  <--  9  -->  1\n",
      "9  <--  1  -->  2\n",
      "1  <--  2  --> None\n",
      "--------------\n",
      "9 1 2 \n",
      "--------------\n",
      "_________________\n",
      "None of the lists are Reverte** \n",
      "a:  951  - b:  7632  - r:  8583\n",
      "----------------------------------\n",
      "None  <--  8  -->  5\n",
      "8  <--  5  -->  8\n",
      "5  <--  8  -->  3\n",
      "8  <--  3  --> None\n",
      "--------------\n",
      "8 5 8 3 \n",
      "--------------\n",
      "_________________\n",
      "Second list Reversed\n",
      "c 100\n",
      "c 10\n",
      "c 1\n",
      "a:  0  - b:  925  - r:  925\n",
      "----------------------------------\n",
      "<class 'list'>\n",
      "['9', '2', '5']\n",
      "None  <--  9  -->  2\n",
      "9  <--  2  -->  5\n",
      "2  <--  5  --> None\n",
      "--------------\n",
      "9 2 5 \n",
      "--------------\n",
      "_________________\n"
     ]
    }
   ],
   "source": [
    "l1 = LinkedList()\n",
    "l1.append_multiple([7,1,6])\n",
    "l2 = LinkedList()\n",
    "l2.append_multiple([5,9,2])\n",
    "\n",
    "res = sum_lists(l1,l2,0)\n",
    "\n",
    "res.display()\n",
    "res.values()\n",
    "\n",
    "print('_________________')\n",
    "\n",
    "l3 = LinkedList()\n",
    "l3.append_multiple([1,5,9])\n",
    "l4 = LinkedList()\n",
    "l4.append_multiple([2,3,6,7])\n",
    "\n",
    "res2 = sum_lists(l3,l4,0)\n",
    "\n",
    "res2.display()\n",
    "res2.values()\n",
    "\n",
    "print('_________________')\n",
    "\n",
    "l5 = LinkedList()\n",
    "l5.append_multiple([6,1,7])\n",
    "l6 = LinkedList()\n",
    "l6.append_multiple([2,9,5])\n",
    "\n",
    "res3 = sum_lists(l5,l6,2)\n",
    "\n",
    "res3.display()\n",
    "res3.values()\n",
    "\n",
    "print('_________________')"
   ]
  },
  {
   "cell_type": "code",
   "execution_count": 671,
   "id": "acb729a8-a79d-4b57-bf51-e45f59794682",
   "metadata": {},
   "outputs": [],
   "source": [
    "def sum_lists_opt(l1, l2, reversed):\n",
    "    res = LinkedList()\n",
    "    carry = 0\n",
    "    \n",
    "    if reversed == 0:\n",
    "        print('Ls Straight')\n",
    "        node1, node2 = l1.head, l2.head\n",
    "        while node1 or node2:\n",
    "            sum_val = carry\n",
    "\n",
    "            if node1:\n",
    "                sum_val += node1.data\n",
    "                node1 = node1.next\n",
    "\n",
    "            if node2:\n",
    "                sum_val += node2.data\n",
    "                node2 = node2.next\n",
    "\n",
    "            carry = sum_val // 10\n",
    "            res.append(sum_val % 10)\n",
    "            \n",
    "    elif reversed == 1:\n",
    "        print('L1 Reversed')\n",
    "        node1, node2 = l1.tail, l2.head\n",
    "        while node1 or node2:\n",
    "            sum_val = carry\n",
    "\n",
    "            if node1:\n",
    "                sum_val += node1.data\n",
    "                node1 = node1.prev\n",
    "\n",
    "            if node2:\n",
    "                sum_val += node2.data\n",
    "                node2 = node2.next\n",
    "\n",
    "            carry = sum_val // 10\n",
    "            res.append(sum_val % 10)  \n",
    "            \n",
    "    elif reversed == 2:\n",
    "        print('L2 Reversed')\n",
    "        node1, node2 = l1.head, l2.tail\n",
    "        while node1 or node2:\n",
    "            sum_val = carry\n",
    "\n",
    "            if node1:\n",
    "                sum_val += node1.data\n",
    "                node1 = node1.next\n",
    "\n",
    "            if node2:\n",
    "                sum_val += node2.data\n",
    "                node2 = node2.prev\n",
    "\n",
    "            carry = sum_val // 10\n",
    "            res.append(sum_val % 10)\n",
    "\n",
    "    else:\n",
    "        print('Both Ls Reversed')\n",
    "        node1, node2 = l1.tail, l2.tail\n",
    "        while node1 or node2:\n",
    "            sum_val = carry\n",
    "\n",
    "            if node1:\n",
    "                sum_val += node1.data\n",
    "                node1 = node1.prev\n",
    "\n",
    "            if node2:\n",
    "                sum_val += node2.data\n",
    "                node2 = node2.prev\n",
    "\n",
    "            carry = sum_val // 10\n",
    "            res.append(sum_val % 10)\n",
    "\n",
    "    if carry:\n",
    "        res.append(carry)\n",
    "\n",
    "    return res"
   ]
  },
  {
   "cell_type": "code",
   "execution_count": 672,
   "id": "009d0be7-6f71-45bd-8c11-b255198fe2c8",
   "metadata": {},
   "outputs": [
    {
     "name": "stdout",
     "output_type": "stream",
     "text": [
      "Ls Straight\n",
      "-----------------------\n",
      "2 1 9 \n",
      "--------------\n",
      "None  <--  2  -->  1\n",
      "2  <--  1  -->  9\n",
      "1  <--  9  --> None\n",
      "--------------\n",
      "_________________________\n",
      "L2 Reversed\n",
      "------------------\n",
      "2 1 9 \n",
      "--------------\n",
      "None  <--  2  -->  1\n",
      "2  <--  1  -->  9\n",
      "1  <--  9  --> None\n",
      "--------------\n"
     ]
    }
   ],
   "source": [
    "l1 = LinkedList()\n",
    "l1.append_multiple([7,1,6])\n",
    "l2 = LinkedList()\n",
    "l2.append_multiple([5,9,2])\n",
    "\n",
    "res = sum_lists_opt(l1,l2,0)\n",
    "print('-----------------------')\n",
    "res.values()\n",
    "res.display()\n",
    "\n",
    "print('_________________________')\n",
    "\n",
    "l3 = LinkedList()\n",
    "l3.append_multiple([7,1,6])\n",
    "l4 = LinkedList()\n",
    "l4.append_multiple([2,9,5])\n",
    "\n",
    "res = sum_lists_opt(l3,l4, 2)\n",
    "print('------------------')\n",
    "res.values()\n",
    "res.display()"
   ]
  },
  {
   "cell_type": "code",
   "execution_count": 689,
   "id": "0ebffed6-39a4-4169-8f2a-d2aa43ded7bd",
   "metadata": {},
   "outputs": [],
   "source": [
    "def sum_lists_rec(l1, l2, reversed):\n",
    "    \n",
    "    if l1.head == l2.head == None:\n",
    "        print('Empty List')\n",
    "        return 0\n",
    "        \n",
    "    sumlist = LinkedList()\n",
    "    \n",
    "    def sum_lists_helper(l1_head, l2_head, reminder, sumlist):\n",
    "        if l1_head == l2_head == None:\n",
    "            if reminder != 0:\n",
    "                sumlist.append(reminder)\n",
    "            return sumlist\n",
    "\n",
    "        elif l1_head == None and l2_head != None:\n",
    "            s = l2_head.data + reminder\n",
    "            aca = s // 10\n",
    "            res = s % 10\n",
    "            \n",
    "            sumlist.append(res)\n",
    "\n",
    "            l2_head = l2_head.next\n",
    "            return sum_lists_helper(l1_head, l2_head, aca, sumlist)\n",
    "\n",
    "        elif l1_head != None and l2_head == None:\n",
    "            s = l1_head.data + reminder\n",
    "            aca = s // 10\n",
    "            res = s % 10\n",
    "            \n",
    "            sumlist.append(res)\n",
    "\n",
    "            l2_head = l1_head.next\n",
    "            return sum_lists_helper(l1_head, l2_head, aca, sumlist)\n",
    "\n",
    "\n",
    "        else:\n",
    "            s = l1_head.data + l2_head.data + reminder\n",
    "            aca = s // 10\n",
    "            res = s % 10\n",
    "\n",
    "            sumlist.append(res)\n",
    "\n",
    "            l1_head = l1_head.next\n",
    "            l2_head = l2_head.next\n",
    "            return sum_lists_helper(l1_head, l2_head, aca, sumlist)\n",
    "\n",
    "\n",
    "    return sum_lists_helper(l1.head, l2.head, 0, sumlist)"
   ]
  },
  {
   "cell_type": "code",
   "execution_count": 691,
   "id": "691c0692-24ab-4962-8c06-d1b758f632be",
   "metadata": {},
   "outputs": [
    {
     "name": "stdout",
     "output_type": "stream",
     "text": [
      "2 1 9 \n",
      "--------------\n",
      "None  <--  2  -->  1\n",
      "2  <--  1  -->  9\n",
      "1  <--  9  --> None\n",
      "--------------\n",
      "9 0 2 1 \n",
      "--------------\n",
      "None  <--  9  -->  0\n",
      "9  <--  0  -->  2\n",
      "0  <--  2  -->  1\n",
      "2  <--  1  --> None\n",
      "--------------\n"
     ]
    }
   ],
   "source": [
    "l1 = LinkedList()\n",
    "l1.append_multiple([7,1,6]) # Representa el número 617\n",
    "l2 = LinkedList()\n",
    "l2.append_multiple([5,9,2]) # Representa el número 295\n",
    "# Result = 2 1 9\n",
    "\n",
    "l3 = LinkedList()\n",
    "l3.append_multiple([2,9,5])\n",
    "\n",
    "res = sum_lists_rec(l1,l2,0)\n",
    "res.values()\n",
    "res.display()\n",
    "\n",
    "res = sum_lists_rec(l1,l3,0)\n",
    "res.values()\n",
    "res.display()"
   ]
  },
  {
   "cell_type": "markdown",
   "id": "a039a11c-5554-4da8-8174-a425a8566283",
   "metadata": {},
   "source": [
    "### Exercise 2.6\n",
    "\n",
    "**Palindrome:** Implement a function to check if a linked list is a palindrome. \n",
    "\n",
    "**Hints:**\n",
    "- #5: A palindrome is something which is the same when written forwards and backwards. What if you reversed the linked list? \n",
    "- #13: Try using a stack. \n",
    "- #29: Assume you have the length of the linked list. Can you implement this recursively? \n",
    "- #61: In the recursive approach (we have the length of the list), the middle is the base case: is Permutation (middle) is true. The node x to the immediate left of the middle: What can that node do to check if x->middle->y forms a palindrome? Now suppose that checks out. What about the previous node a? If x->middle->y is a palindrome, how can it check that a->x->middle->y->b is a palindrome? \n",
    "- #101: Go back to the previous hint. Remember: There are ways to return multiple values. You can do this with a new class. "
   ]
  },
  {
   "cell_type": "code",
   "execution_count": 750,
   "id": "628871f8-bf71-4b66-b723-aec57b72282d",
   "metadata": {},
   "outputs": [],
   "source": [
    "def rec_palindrom(l1):\n",
    "    if l1.head == None:\n",
    "        print('Empty List')\n",
    "\n",
    "    if l1.head.next == None:\n",
    "        print('One Element List -- Yes is a palindrom')\n",
    "\n",
    "    c, res = 0, False\n",
    "    len = l1.length()\n",
    "    \n",
    "    def palindrome_helper(n, len, c, res):\n",
    "        if len % 2 == 1:\n",
    "            if n == None:\n",
    "              return res\n",
    "            \n",
    "            elif c < int(len/2):\n",
    "                c += 1\n",
    "                return palindrome_helper(n.next, len, c, res)\n",
    "\n",
    "            else:\n",
    "                x = n.prev\n",
    "                y = n.next\n",
    "                \n",
    "                if x.prev != None and y.next != None:\n",
    "                    if x.data == y.data:\n",
    "                        res = True\n",
    "                        x.prev.next = n\n",
    "                        y.next.prev = n\n",
    "                        n.prev = x.prev\n",
    "                        n.next = y.next\n",
    "                        return palindrome_helper(n, len, c, res)\n",
    "                    else:\n",
    "                        return False\n",
    "                    \n",
    "                else:\n",
    "                    return res\n",
    "        else:\n",
    "            if n == None:\n",
    "              return res\n",
    "            \n",
    "            elif c < int(len/2):\n",
    "                c += 1\n",
    "                return palindrome_helper(n.next, len, c, res)\n",
    "\n",
    "            else:\n",
    "                x = n.prev\n",
    "                y = n\n",
    "                \n",
    "                if x.prev != None and y.next != None:\n",
    "                    if x.data == y.data:\n",
    "                        res = True\n",
    "                        y = n.next\n",
    "                        y.prev = x.prev\n",
    "                        return palindrome_helper(y, len, c, res)\n",
    "                    else:\n",
    "                        return False\n",
    "                    \n",
    "                else:\n",
    "                    return res\n",
    "    return palindrome_helper(l1.head, len, c, res)"
   ]
  },
  {
   "cell_type": "code",
   "execution_count": 751,
   "id": "2d1cd2e3-2612-4d4f-936d-0eb6e94cec6b",
   "metadata": {},
   "outputs": [
    {
     "name": "stdout",
     "output_type": "stream",
     "text": [
      "True\n",
      "True\n"
     ]
    }
   ],
   "source": [
    "l1 = LinkedList()\n",
    "l1.append_multiple([1,2,3,2,1])\n",
    "boo = rec_palindrom(l1)\n",
    "print(boo)\n",
    "\n",
    "l2 = LinkedList()\n",
    "l2.append_multiple([1,2,3,3,2,1])\n",
    "boo = rec_palindrom(l2)\n",
    "print(boo)"
   ]
  },
  {
   "cell_type": "code",
   "execution_count": 752,
   "id": "f088983b-2a36-4dbc-a90a-62b90fd51cb3",
   "metadata": {},
   "outputs": [
    {
     "ename": "SyntaxError",
     "evalue": "incomplete input (1784034094.py, line 5)",
     "output_type": "error",
     "traceback": [
      "\u001b[1;36m  Cell \u001b[1;32mIn[752], line 5\u001b[1;36m\u001b[0m\n\u001b[1;33m    if length == 1:\u001b[0m\n\u001b[1;37m                   ^\u001b[0m\n\u001b[1;31mSyntaxError\u001b[0m\u001b[1;31m:\u001b[0m incomplete input\n"
     ]
    }
   ],
   "source": [
    "def is_palindrome_recursive(l1):\n",
    "    # Helper function for checking palindrome\n",
    "    \n",
    "    def is_palindrome_helper(node, length):\n",
    "        # Base case: Empty list is a palindrome\n",
    "        if length == 0:\n",
    "            return True, None\n",
    "        # Base case: Single-element list is a palindrome\n",
    "        if length == 1:\n",
    "            return True, node.next\n",
    "\n",
    "        # Recursive step: Call the helper on the next node with reduced length\n",
    "        is_palindrome, next_node = is_palindrome_helper(node.next, length - 2)\n",
    "\n",
    "        # Check if it's not a palindrome or the next node is None\n",
    "        if not is_palindrome or next_node is None:\n",
    "            return False, None\n",
    "\n",
    "        # Compare the current node's data with the next node's data\n",
    "        return node.data == next_node.data, next_node.next\n",
    "\n",
    "    # Calculate the length of the linked list\n",
    "    length = l1.length()\n",
    "    \n",
    "    # Call the helper function starting from the head of the list\n",
    "    is_palindrome, _ = is_palindrome_helper(l1.head, length)\n",
    "    \n",
    "    # Return whether it's a palindrome or not\n",
    "    return is_palindrome"
   ]
  },
  {
   "cell_type": "code",
   "execution_count": 755,
   "id": "9a36ec6e-ced7-4f0d-b351-f82ad67ac56a",
   "metadata": {},
   "outputs": [
    {
     "name": "stdout",
     "output_type": "stream",
     "text": [
      "a\n",
      "b\n"
     ]
    }
   ],
   "source": [
    "if not False:\n",
    "    print('a')\n",
    "\n",
    "print('b')"
   ]
  },
  {
   "cell_type": "markdown",
   "id": "8787f6c6-fdcd-40d6-82b3-a615e1285c94",
   "metadata": {},
   "source": [
    "### Exercise 2.7\n",
    "\n",
    "**Intersection:** Given two (singly) linked lists, determine if the two lists intersect. Return the intersecting node. Note that the intersection is defined based on reference, not value. That is, if the kth node of the first linked list is the exact same node (by reference) as the jth node of the second linked list, then they are intersecting.\n",
    "\n",
    "**Hints:**\n",
    "- #20: You can do this in O(A+B) time and 0(1) additional space. That is, you do not need a hash table (although you could do it with one). \n",
    "- #45: Examples will help you. Draw a picture of intersecting linked lists and two equivalent linked lists (by value) that do not intersect. \n",
    "- #55: Focus first on just identifying if there's an intersection. \n",
    "- #65: Observe that two intersecting linked lists will always have the same last node. Once they intersect, all the nodes after that will be equal. \n",
    "- #76: You can determine if two linked lists intersect by traversing to the end of each and comparing their tails. \n",
    "- #93: Now, you need to find where the linked lists intersect. Suppose the linked lists were the same length. How could you do this? \n",
    "- #111: If the two linked lists were the same length, you could traverse forward in each until you found an element in common. Now, how do you adjust this for lists of different lengths? \n",
    "- #120: Try using the difference between the lengths of the two linked lists. \n",
    "- #129: If you move a pointer in the longer linked list forward by the difference in lengths, you can then apply a similar approach to the scenario when the linked lists are equal."
   ]
  },
  {
   "cell_type": "code",
   "execution_count": 757,
   "id": "358440ac-b148-46a6-9bd4-9133fb562d57",
   "metadata": {},
   "outputs": [
    {
     "data": {
      "text/html": [
       "<img src=\"http://localhost:8888/lab/tree/Desktop/Crack%20the%20Coding%20Interview/Intersecting%20Lists.png\"/>"
      ],
      "text/plain": [
       "<IPython.core.display.Image object>"
      ]
     },
     "execution_count": 757,
     "metadata": {},
     "output_type": "execute_result"
    }
   ],
   "source": [
    "Image(url='http://localhost:8888/lab/tree/Desktop/Crack%20the%20Coding%20Interview/Intersecting%20Lists.png')"
   ]
  },
  {
   "cell_type": "code",
   "execution_count": 825,
   "id": "2119a4ec-c8f6-4703-8aa6-cd78001053ab",
   "metadata": {},
   "outputs": [],
   "source": [
    "def intersection(l1,l2):\n",
    "    n1, n2 = l1.head, l2.head\n",
    "    len1, len2 = l1.length(), l2.length() \n",
    "\n",
    "    diff = abs(len1 - len2)\n",
    "\n",
    "    c = 0\n",
    "    \n",
    "    if len1 > len2:\n",
    "        while c != diff:\n",
    "            n1 = n1.next\n",
    "            c+=1\n",
    "    else: \n",
    "        while c != diff:\n",
    "            n2 = n2.next\n",
    "            c+=1\n",
    "\n",
    "    intersexed = False\n",
    "    wheres_it = 0 + diff\n",
    "    it_node = None\n",
    "\n",
    "    # Find Tails:\n",
    "    wt = l1.head\n",
    "    bt = l2.head\n",
    "    while wt.next:\n",
    "        wt = wt.next\n",
    "    while bt.next:\n",
    "        bt = bt.next\n",
    "    if bt != wt:\n",
    "        print('Lists are not intersected, their tails are different')\n",
    "        return intersexed, -1, it_node\n",
    "    \n",
    "    while n1 and n2:\n",
    "        \n",
    "        if intersexed == True:\n",
    "            if n1 != n2:\n",
    "                intersexed = False\n",
    "            n1 = n1.next\n",
    "            n2 = n2.next\n",
    "\n",
    "        else:\n",
    "            if n1 == n2:\n",
    "                intersexed = True\n",
    "                it_node = n1\n",
    "            else:\n",
    "                wheres_it += 1\n",
    "            n1 = n1.next\n",
    "            n2 = n2.next\n",
    "\n",
    "    return intersexed, wheres_it, it_node"
   ]
  },
  {
   "cell_type": "code",
   "execution_count": 826,
   "id": "7271421c-6b68-465e-a8e6-441e2c290067",
   "metadata": {},
   "outputs": [],
   "source": [
    "def intersection_opt(l1, l2):\n",
    "    n1, n2 = l1.head, l2.head\n",
    "    len1, len2 = l1.length(), l2.length()\n",
    "\n",
    "    diff = abs(len1 - len2)\n",
    "\n",
    "    # Adjust starting positions\n",
    "    for _ in range(diff):\n",
    "        if len1 > len2:\n",
    "            n1 = n1.next\n",
    "        else:\n",
    "            n2 = n2.next\n",
    "\n",
    "    while n1 and n2:\n",
    "        if n1 == n2:\n",
    "            return check_subsequent_elements(n1, n2)\n",
    "        n1, n2 = n1.next, n2.next\n",
    "\n",
    "    return False, None  # No intersection\n",
    "\n",
    "def check_subsequent_elements(n1, n2):\n",
    "    while n1 and n2:\n",
    "        if n1.data != n2.data:\n",
    "            return False\n",
    "        n1, n2 = n1.next, n2.next\n",
    "    return True"
   ]
  },
  {
   "cell_type": "code",
   "execution_count": 827,
   "id": "38bb5cfe-b3b2-4939-8a83-5552e55ff0e9",
   "metadata": {},
   "outputs": [
    {
     "name": "stdout",
     "output_type": "stream",
     "text": [
      "<__main__.Node object at 0x000002686E381290> 1\n",
      "<__main__.Node object at 0x000002686E381290> 1\n",
      "True\n",
      "______________________________________\n",
      "\n",
      "Node Data:  7 --- Node Dir:  <__main__.Node object at 0x000002686E383BD0>\n",
      "Are list intersected?  True\n",
      "In which node for the longest list?  4\n",
      "\n",
      "----------------------------------\n",
      "\n",
      "Lists are not intersected, their tails are different\n",
      "Are list intersected?  False\n",
      "In which node for the longest list?  -1\n"
     ]
    }
   ],
   "source": [
    "l1 = LinkedList([3,1,5,9,7,2,1])\n",
    "l2 = LinkedList([4,6,7,2,1])\n",
    "intersex = LinkedList([4,6])\n",
    "intersex.head.next.next = l1.head.next.next.next.next\n",
    "\n",
    "print(l1.head.next.next.next.next.next.next, l1.head.next.next.next.next.next.next.data)\n",
    "print(intersex.head.next.next.next.next, intersex.head.next.next.next.next.data)\n",
    "print(intersex.head.next.next.next.next == l1.head.next.next.next.next.next.next)\n",
    "\n",
    "print('______________________________________')\n",
    "print('')\n",
    "\n",
    "it,who,n = intersection(l1,intersex)\n",
    "\n",
    "if n != None:\n",
    "    print('Node Data: ', n.data, '--- Node Dir: ',  n)\n",
    "print('Are list intersected? ', it)\n",
    "print('In which node for the longest list? ', who)\n",
    "\n",
    "    \n",
    "print('')\n",
    "print('----------------------------------')\n",
    "print('')\n",
    "\n",
    "it,who,n = intersection(l1,l2)\n",
    "\n",
    "if n != None:\n",
    "    print('Node Data: ', n.data, '--- Node Dir: ',  n)\n",
    "print('Are list intersected? ', it)\n",
    "print('In which node for the longest list? ', who)\n"
   ]
  },
  {
   "cell_type": "code",
   "execution_count": null,
   "id": "08401ccc-0a6f-4682-8982-5693375fbb1f",
   "metadata": {},
   "outputs": [],
   "source": []
  },
  {
   "cell_type": "markdown",
   "id": "1102dbd2-d686-42e4-987b-c946491f8cbe",
   "metadata": {},
   "source": [
    "### Exercise 2.8\n",
    "\n",
    "**Loop Detection:** Given a circular linked list, implement an algorithm that returns the node at the beginning of the loop.\n",
    "\n",
    "DEFINITION\n",
    "\n",
    "Circular linked list: A (corrupt) linked list in which a node's next pointer points to an earlier node, so as to make a loop in the linked list.\n",
    "\n",
    "EXAMPLE\n",
    "\n",
    "Input: A -> B -> C -> D -> E -> C (the same C as earlier)\n",
    "\n",
    "Output: C\n",
    "\n",
    "**Hints:** \n",
    "- #50: There are really two parts to this problem. First, detect if the linked list has a loop. Second, figure out where the loop starts. \n",
    "- #69: To identify if there's a cycle, try the \"runner\" approach described on page 93. Have one pointer move faster than the other.\n",
    "- #83: You can use two pointers, one moving twice as fast as the other. If there is a cycle, the two pointers will collide. They will land at the same location at the same time. Where do they land? Why there? \n",
    "- #90: If you haven't identified the pattern of where the two pointers start, try this: Use the linked list 1 -> 2 -> 3 -> 4 -> 5 -> 6 -> 7 -> 8 -> 9 -> ?, where the ? links to another node. Try making the ? the first node (that is, the 9 points to the 1 such that the entire linked list is a loop). Then make the ? the node 2. Then the node 3. Then the node 4. What is the pattern? Can you explain why this happens? "
   ]
  },
  {
   "cell_type": "code",
   "execution_count": 846,
   "id": "31f7abb6-6faa-4921-83d2-50493ddaff1c",
   "metadata": {},
   "outputs": [
    {
     "name": "stdout",
     "output_type": "stream",
     "text": [
      "A\n",
      "B\n",
      "C\n",
      "D\n",
      "E\n",
      "C\n"
     ]
    }
   ],
   "source": [
    "# you can do this with a set. and when the adress of the node is repeated, you know that is where the loop is\n",
    "def detect_loop(l1):\n",
    "    se = set()\n",
    "    n = l1.head\n",
    "\n",
    "    while n != None:\n",
    "        if n not in se:\n",
    "            print(n.data)\n",
    "            se.add(n)\n",
    "        elif n in se:\n",
    "            break\n",
    "        n = n.next\n",
    "    \n",
    "    return n\n",
    "\n",
    "\n",
    "l1 = LinkedList(['A', 'B', 'C', 'D', 'E'])\n",
    "l1.head.next.next.next.next.next = l1.head.next.next\n",
    "rep = detect_loop(l1)\n",
    "print(rep.data)"
   ]
  },
  {
   "cell_type": "markdown",
   "id": "e486bfe0-a814-49a6-a733-ef885675481d",
   "metadata": {},
   "source": [
    "The logic behind why the slow and fast pointers eventually meet at the beginning of the loop again is related to the relative speeds at which they move through the linked list.\n",
    "\n",
    "Before they meet, the fast pointer moves at twice the speed of the slow pointer. This is because in each iteration, fast takes two steps while slow takes only one step.\n",
    "\n",
    "When they meet at the collision point (the point within the loop), let's assume that slow has traveled k steps, and fast has traveled 2k steps. This is because fast moves twice as fast as slow.\n",
    "\n",
    "After the collision, we reset slow to the head of the linked list but keep fast at the collision point. Now, both slow and fast start moving at the same pace, taking one step at a time.\n",
    "\n",
    "Since fast was originally k steps ahead of slow within the loop, and now they move at the same pace, it will take k steps for both slow and fast to meet again.\n",
    "\n",
    "Importantly, k steps is precisely the distance from the collision point to the start of the loop. This means that when slow and fast both move k steps, they will meet again at the beginning of the loop.\n",
    "\n",
    "So, the logic behind their meeting at the start of the loop is based on the relative speeds and the distances they've traveled within the loop. By having them move at different speeds initially and then at the same speed after the collision, they are guaranteed to meet at the beginning of the loop, allowing us to identify the loop's starting point."
   ]
  },
  {
   "cell_type": "code",
   "execution_count": 858,
   "id": "e203a574-4019-4021-a8bc-290cc3a661e4",
   "metadata": {},
   "outputs": [],
   "source": [
    "# Metodo Running\n",
    "def find_beginning(head):\n",
    "    slow = head\n",
    "    fast = head\n",
    "\n",
    "    # Find the meeting point (Collision)\n",
    "    while fast is not None and fast.next is not None:\n",
    "        print('s1-', slow.next.data, 'f1-', fast.next.next.data)\n",
    "        slow = slow.next\n",
    "        fast = fast.next.next\n",
    "        if slow == fast:\n",
    "            break\n",
    "\n",
    "    # Error check - no meeting point, and therefore no loop\n",
    "    if fast is None or fast.next is None:\n",
    "        return None\n",
    "\n",
    "    # Move slow to head and keep fast at the meeting point\n",
    "    slow = head\n",
    "    while slow != fast:\n",
    "        print('s', slow.next.data, 'f', fast.next.data)\n",
    "        slow = slow.next\n",
    "        fast = fast.next\n",
    "\n",
    "    # Both now point to the start of the loop\n",
    "    return fast"
   ]
  },
  {
   "cell_type": "code",
   "execution_count": 859,
   "id": "46d36e60-065c-4b55-9694-689c7bf45196",
   "metadata": {},
   "outputs": [
    {
     "name": "stdout",
     "output_type": "stream",
     "text": [
      "s1- B f1- C\n",
      "s1- C f1- E\n",
      "s1- D f1- G\n",
      "s1- E f1- D\n",
      "s1- F f1- F\n",
      "s B f G\n",
      "s C f C\n",
      "C\n"
     ]
    }
   ],
   "source": [
    "l1 = LinkedList(['A', 'B', 'C', 'D', 'E', 'F', 'G'])\n",
    "l1.head.next.next.next.next.next.next.next = l1.head.next.next\n",
    "rep = find_beginning(l1.head)\n",
    "print(rep.data)"
   ]
  },
  {
   "cell_type": "markdown",
   "id": "342b5d76-8439-4140-b60b-21d4ee4ce1c9",
   "metadata": {},
   "source": [
    "Additional Questions: Trees and Graphs (#4.3), Object-Oriented Design (#7.12), System Design and Scalability (#9.5), Moderate Problems (#16.25), Hard Problems (#17.12).\n",
    "\n",
    "Hints start on page 653"
   ]
  }
 ],
 "metadata": {
  "kernelspec": {
   "display_name": "Python 3 (ipykernel)",
   "language": "python",
   "name": "python3"
  },
  "language_info": {
   "codemirror_mode": {
    "name": "ipython",
    "version": 3
   },
   "file_extension": ".py",
   "mimetype": "text/x-python",
   "name": "python",
   "nbconvert_exporter": "python",
   "pygments_lexer": "ipython3",
   "version": "3.11.5"
  }
 },
 "nbformat": 4,
 "nbformat_minor": 5
}
