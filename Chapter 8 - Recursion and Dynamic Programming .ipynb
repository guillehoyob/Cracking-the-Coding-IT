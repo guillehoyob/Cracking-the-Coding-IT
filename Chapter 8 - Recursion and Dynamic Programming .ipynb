{
 "cells": [
  {
   "cell_type": "markdown",
   "id": "945d07bd-7df9-4ad2-b4a0-93755d98bf12",
   "metadata": {},
   "source": [
    "# Import"
   ]
  },
  {
   "cell_type": "code",
   "execution_count": 198,
   "id": "d9e10f2c-53ba-4446-8cd2-b47daba54ee4",
   "metadata": {},
   "outputs": [],
   "source": [
    "# Images\n",
    "from IPython.display import Image"
   ]
  },
  {
   "cell_type": "code",
   "execution_count": null,
   "id": "2c3a1000-2c5d-41de-bbe5-0f7d7950b68c",
   "metadata": {},
   "outputs": [],
   "source": []
  },
  {
   "cell_type": "markdown",
   "id": "d8797418-6da8-47c5-89d7-b36383199dca",
   "metadata": {},
   "source": [
    "# Recursion and Dynamic Programming"
   ]
  },
  {
   "cell_type": "markdown",
   "id": "5da79d14-0240-45a0-964f-8b858e2a2bc0",
   "metadata": {},
   "source": [
    "### Dynamic Programming\n",
    "Dynamic programming is a problem-solving technique used in computer science and mathematics to solve problems by breaking them down into smaller subproblems and solving each subproblem only once. It's particularly useful for optimization problems and problems with overlapping subproblems. Dynamic programming can be approached in two main ways. It is also tipically applied by breaking down recursive problems and solve them iteratively fuse with recursion, so that the computation runtime or space is optimized \r\n",
    "\r\n"
   ]
  },
  {
   "cell_type": "markdown",
   "id": "e0447233-dc0d-49ba-bd57-cb69ab3b075e",
   "metadata": {},
   "source": [
    "### 1. Memorization\n",
    "\n",
    "Memoization is a specific technique within dynamic programming. It involves storing the results of expensive function calls and returning the cached result when the same inputs occur again. In other words, it's a way of optimizing recursive functions by keeping track of the solutions to subproblems in a data structure (often an array or a dictionary).\n",
    "."
   ]
  },
  {
   "cell_type": "markdown",
   "id": "fa5769f7-2b25-4cce-8ad6-a55489b49ab7",
   "metadata": {},
   "source": [
    "### 2. Top-Down Aproach\n",
    "\n",
    "In the context of dynamic programming, \"top-down\" refers to solving a problem recursively by breaking it into smaller subproblems. These subproblems are solved using recursion, and their solutions are cached to avoid redundant calculations. This is often called the \"top-down\" approach because you start with the original problem and work your way down to smaller subproblems."
   ]
  },
  {
   "cell_type": "markdown",
   "id": "510fd51f-bea1-48d6-b485-4ac882c534aa",
   "metadata": {},
   "source": [
    "### 3. Bottom-Up Aproach\n",
    "\n",
    "\"Bottom-up\" refers to solving a problem iteratively by solving the smallest subproblems first and using their solutions to solve larger subproblems. In this approach, you start with the simplest subproblems and build up to the original problem. It's often more efficient in terms of memory usage as it doesn't involve the overhead of recursive function calls.s:"
   ]
  },
  {
   "cell_type": "code",
   "execution_count": null,
   "id": "8e82a71d-aea3-456e-b7af-fd8962a454a6",
   "metadata": {},
   "outputs": [],
   "source": []
  },
  {
   "cell_type": "markdown",
   "id": "c64c1b59-1e68-44c0-978a-513a4ffe5624",
   "metadata": {},
   "source": [
    "### Fibonacci Example"
   ]
  },
  {
   "cell_type": "code",
   "execution_count": 1,
   "id": "2fd6218f-162d-44bf-89dd-41eac2ecd4c0",
   "metadata": {},
   "outputs": [],
   "source": [
    "# Recursion\n",
    "def fibonacci_recursive(n):\n",
    "    if n <= 0:\n",
    "        return 0\n",
    "    elif n == 1:\n",
    "        return 1\n",
    "    else:\n",
    "        return fibonacci_recursive(n - 1) + fibonacci_recursive(n - 2)\n",
    "\n",
    "# Memorization\n",
    "def fibonacci_memoization(n):\n",
    "    memo = [-1] * (n + 1)\n",
    "    return fibonacci_memoization_helper(n, memo)\n",
    "\n",
    "def fibonacci_memoization_helper(n, memo):\n",
    "    if n <= 0:\n",
    "        return 0\n",
    "    elif n == 1:\n",
    "        return 1\n",
    "\n",
    "    if memo[n] == -1:\n",
    "        memo[n] = fibonacci_memoization_helper(n - 1, memo) + fibonacci_memoization_helper(n - 2, memo)\n",
    "    \n",
    "    return memo[n]"
   ]
  },
  {
   "cell_type": "code",
   "execution_count": null,
   "id": "af17e07e-d659-4361-85c9-d9fac3b9ce47",
   "metadata": {},
   "outputs": [],
   "source": []
  },
  {
   "cell_type": "code",
   "execution_count": null,
   "id": "d8586b96-8a01-4b47-885d-16e2ef70c18f",
   "metadata": {},
   "outputs": [],
   "source": []
  },
  {
   "cell_type": "markdown",
   "id": "c0e2ce86-328d-4147-9fb7-04a5eec11562",
   "metadata": {},
   "source": [
    "# Exercises"
   ]
  },
  {
   "cell_type": "markdown",
   "id": "1e287697-cb75-4b9b-9a33-2752834d5c66",
   "metadata": {},
   "source": [
    "#### Exercise 8.1\n",
    "**Triple Step**: A child is running up a staircase with n steps and can hop either 1 step, 2 steps, or 3\n",
    "steps at a time. Implement a method to count how many possible ways the child can run up the\n",
    "stairs.\n",
    "\n",
    "**Hints:**\n",
    "- #152: Approach this from the top down. What is the very last hop the child made?\n",
    "- #178: If we knew the number of paths to each of the steps before step 100, could we compute the number of steps to 100? \n",
    "- #217: We can compute the number of steps to 100 by the number of steps to 99, 98, and 97. This corresponds to the child hopping 1, 2, or 3 steps at the end. Do we add those or multiply them? That is: Is it f(100) = f(99) + f(98) + f(97) or f(100) = f(99) * f(98) * f(97)?\n",
    "\n",
    "- #237: We multiply the values when it's \"we do this then this:' We add them when it's \"we do this or this:' \n",
    "- #262: What is the runtime of this method? Think carefully. Can you optimize it? \n",
    "- #359: Try memoization as a way to optimize an inefficient recursive program. "
   ]
  },
  {
   "cell_type": "markdown",
   "id": "04fa4e2e-e755-40cc-8594-9d191baebbfb",
   "metadata": {},
   "source": [
    "#### Memoization"
   ]
  },
  {
   "cell_type": "code",
   "execution_count": 18,
   "id": "a781bf13-42d8-49e1-85d2-7c6a0e25866f",
   "metadata": {},
   "outputs": [
    {
     "name": "stdout",
     "output_type": "stream",
     "text": [
      "Number of ways to climb 8 steps: 81\n"
     ]
    }
   ],
   "source": [
    "def count_ways_to_climb_stairs(n, memo={}):\n",
    "    if n in memo:\n",
    "        return memo[n]\n",
    "\n",
    "    if n <= 2:\n",
    "        return n\n",
    "    elif n == 3:\n",
    "        return 4\n",
    "\n",
    "    ways = count_ways_to_climb_stairs(n - 1, memo) + count_ways_to_climb_stairs(n - 2, memo) + count_ways_to_climb_stairs(n - 3, memo)\n",
    "\n",
    "    memo[n] = ways\n",
    "    return ways\n",
    "\n",
    "n = 8\n",
    "result = count_ways_to_climb_stairs(n)\n",
    "print(f\"Number of ways to climb {n} steps: {result}\")"
   ]
  },
  {
   "cell_type": "markdown",
   "id": "a95e49e6-25c1-42f6-bb5f-d965985e367e",
   "metadata": {},
   "source": [
    "#### Bottom-Up"
   ]
  },
  {
   "cell_type": "code",
   "execution_count": 17,
   "id": "0a718b70-8675-4425-a961-2e0800c3faa8",
   "metadata": {},
   "outputs": [
    {
     "name": "stdout",
     "output_type": "stream",
     "text": [
      "Number of ways to climb 8 steps: 81\n"
     ]
    }
   ],
   "source": [
    "def count_ways_to_climb_stairs(n):\n",
    "    # Base Cases:\n",
    "    if n <= 2:\n",
    "        return n\n",
    "    elif n == 3:\n",
    "        return 4\n",
    "\n",
    "    # Create memo array to save computed values:\n",
    "    ways = [0] * (n+1)\n",
    "\n",
    "    # Instance Base Cases\n",
    "    ways[1] = 1\n",
    "    ways[2] = 2\n",
    "    ways[3] = 4\n",
    "\n",
    "    # calculate number of ways over 3 stairs to n:\n",
    "    for i in range(4, n+1):\n",
    "        ways[i] = ways[i-1] + ways[i-2] + ways[i-3]\n",
    "        \n",
    "    return ways[n]\n",
    "\n",
    "result = count_ways_to_climb_stairs(n)\n",
    "print(f\"Number of ways to climb {n} steps: {result}\")"
   ]
  },
  {
   "cell_type": "code",
   "execution_count": null,
   "id": "ff4fdf6e-c80b-46a1-9bf0-e3e505441586",
   "metadata": {},
   "outputs": [],
   "source": []
  },
  {
   "cell_type": "code",
   "execution_count": null,
   "id": "6983a8f1-21df-498a-9b59-d9dbe2c6d2f7",
   "metadata": {},
   "outputs": [],
   "source": []
  },
  {
   "cell_type": "code",
   "execution_count": null,
   "id": "88e9e194-d604-4b14-b878-27f8d5dc207d",
   "metadata": {},
   "outputs": [],
   "source": []
  },
  {
   "cell_type": "markdown",
   "id": "5f9bb66e-1309-4ab9-900f-c1b399a46d08",
   "metadata": {},
   "source": [
    "#### Exercise 8.2\n",
    "**Robot in a Grid:** Imagine a robot sitting on the upper left corner of grid with r rows and c columns.\n",
    "The robot can only move in two directions, right and down, but certain cells are \"off limits\" such that\n",
    "the robot cannot step on them. Design an algorithm to find a path for the robot from the top left to\n",
    "the bottom right.\n",
    "\n",
    "**Hints:** \n",
    "- #331: For the robot to reach the last cell, it must find a path to the second-to-last cells. For it to find a path to the second-to-last cells, it must find a path to the third-to-last cells. \n",
    "- #360: Simplify this problem a bit by first figuring out if there's a path. Then, modify your algorithm to track the path. \n",
    "- #388: Think again about the efficiency of your algorithm. Can you optimize it?"
   ]
  },
  {
   "cell_type": "code",
   "execution_count": 24,
   "id": "dcf0f7e9-2b1e-44e9-8b8a-b4d09ba3884e",
   "metadata": {},
   "outputs": [
    {
     "name": "stdout",
     "output_type": "stream",
     "text": [
      "['O', None, None, None, None]\n",
      "[None, 'X', None, None, None]\n",
      "[None, 'X', None, 'X', None]\n",
      "[None, 'X', None, 'X', 'V']\n"
     ]
    }
   ],
   "source": [
    "grid = [[None for i in range(5)] for i in range(4)]\n",
    "\n",
    "grid[0][0] = 'X'\n",
    "grid[1][1] = 'X'\n",
    "grid[2][1] = 'X'\n",
    "grid[3][1] = 'X'\n",
    "\n",
    "grid[2][3] = 'X'\n",
    "grid[3][3] = 'X'\n",
    "\n",
    "grid[3][4] = 'V'\n",
    "\n",
    "for g in grid:\n",
    "    print(g)"
   ]
  },
  {
   "cell_type": "code",
   "execution_count": 39,
   "id": "39331267-32a7-446c-945e-8275126755ad",
   "metadata": {},
   "outputs": [
    {
     "name": "stdout",
     "output_type": "stream",
     "text": [
      "Path exists: [(0, 0), (1, 0), (2, 0), (2, 1), (2, 2)]\n"
     ]
    }
   ],
   "source": [
    "def find_path(grid):\n",
    "    if not grid:\n",
    "        return []  # No grid, no path\n",
    "    \n",
    "    def helper(row, col, path):\n",
    "        # Base case 1: If out of bounds or cell is off limits, return an empty path\n",
    "        if row < 0 or col < 0 or not grid[row][col]:\n",
    "            return []\n",
    "        \n",
    "        # Base case 2: If we are at the start (0, 0), we found the path\n",
    "        if row == 0 and col == 0:\n",
    "            return [(0, 0)]\n",
    "        \n",
    "        # Recursively explore the left and up directions\n",
    "        left_path = helper(row, col - 1, path)\n",
    "        up_path = helper(row - 1, col, path)\n",
    "\n",
    "        # Combine the path by choosing the direction that reaches the destination\n",
    "        if left_path:\n",
    "            return left_path + [(row, col)]\n",
    "        elif up_path:\n",
    "            return up_path + [(row, col)]\n",
    "        else:\n",
    "            return []  # No valid path found\n",
    "    \n",
    "    # Start the recursive search from the bottom-right corner (r-1, c-1)\n",
    "    r, c = len(grid), len(grid[0])\n",
    "    path = helper(r - 1, c - 1, [])\n",
    "    \n",
    "    return path\n",
    "\n",
    "# Example usage:\n",
    "grid = [\n",
    "    [1, 1, 1],\n",
    "    [1, 0, 1],\n",
    "    [1, 1, 1]\n",
    "]\n",
    "\n",
    "path = find_path(grid)\n",
    "if path:\n",
    "    print(\"Path exists:\", path)\n",
    "else:\n",
    "    print(\"No path found\")\n",
    "\n"
   ]
  },
  {
   "cell_type": "markdown",
   "id": "2cbf74ec-0d52-4644-84b8-c3aff6fde8fd",
   "metadata": {},
   "source": [
    "#### Memoization"
   ]
  },
  {
   "cell_type": "code",
   "execution_count": 37,
   "id": "1b493823-023d-4fa5-82e4-09ad2be22708",
   "metadata": {},
   "outputs": [
    {
     "name": "stdout",
     "output_type": "stream",
     "text": [
      "Path exists: [(0, 0), (1, 0), (2, 0), (2, 1), (2, 2)]\n"
     ]
    }
   ],
   "source": [
    "def find_path(grid):\n",
    "    if not grid:\n",
    "        return []\n",
    "\n",
    "    # Create a memoization dictionary to store computed paths\n",
    "    memo = {}\n",
    "    \n",
    "    def helper(row, col):\n",
    "        # If the cell is out of bounds or off limits, return None\n",
    "        if row < 0 or col < 0 or not grid[row][col]:\n",
    "            return None\n",
    "\n",
    "        # Check if the path for this cell has already been computed and stored\n",
    "        if (row, col) in memo:\n",
    "            return memo[(row, col)]\n",
    "\n",
    "        # Base case: If we are at the start (0, 0), return the path\n",
    "        if row == 0 and col == 0:\n",
    "            return [(0, 0)]\n",
    "\n",
    "        # Explore left and up directions\n",
    "        left_path = helper(row, col - 1)\n",
    "        up_path = helper(row - 1, col)\n",
    "\n",
    "        # Combine the path based on valid directions\n",
    "        if left_path:\n",
    "            result = left_path + [(row, col)]\n",
    "        elif up_path:\n",
    "            result = up_path + [(row, col)]\n",
    "        else:\n",
    "            result = None\n",
    "\n",
    "        # Store the computed result in the memo dictionary\n",
    "        memo[(row, col)] = result\n",
    "\n",
    "        return result\n",
    "    \n",
    "    r, c = len(grid), len(grid[0])\n",
    "    path = helper(r - 1, c - 1)\n",
    "\n",
    "    return path\n",
    "\n",
    "# Example usage:\n",
    "grid = [\n",
    "    [1, 1, 1],\n",
    "    [1, 0, 1],\n",
    "    [1, 1, 1]\n",
    "]\n",
    "\n",
    "path = find_path(grid)\n",
    "if path:\n",
    "    print(\"Path exists:\", path)\n",
    "else:\n",
    "    print(\"No path found\")"
   ]
  },
  {
   "cell_type": "code",
   "execution_count": null,
   "id": "7ef06613-6ff5-4432-9542-01972cbabd65",
   "metadata": {},
   "outputs": [],
   "source": []
  },
  {
   "cell_type": "markdown",
   "id": "3242b34f-a6c0-4833-9c86-5e22fc485685",
   "metadata": {},
   "source": [
    "#### Exercise 8.3\n",
    "**Magic Index:** A magic index in an array A [ 0 ••• n -1] is defined to be an index such that A[ i] = i. Given a sorted array of distinct integers, write a method to find a magic index, if one exists, in array A.\n",
    "\n",
    "FOLLOW UP\n",
    "\n",
    "What if the values are not distinct?\n",
    "\n",
    "**Hints:**\n",
    "- #170: Start with a brute force algorithm. \n",
    "- #204: Your brute force algorithm probably ran in O(N) time. If you're trying to beat that \n",
    "runtime, what runtime do you think you will get to? Wha  sorts of algorithms have tha \r\n",
    "runtime? \n",
    "- #24 Can you solve the problem in O(log N)? 0:\n",
    "- #28 Binary search has a runtime of O( log N). Can you apply a form of binary search to the \n",
    "problem? 6:\n",
    "- #3 Given a specific index and value, can you identify if the magic index would be before or \n",
    "after it? 40:"
   ]
  },
  {
   "cell_type": "code",
   "execution_count": 55,
   "id": "4f50f52b-0bcb-4616-84b8-721ef4bace5d",
   "metadata": {},
   "outputs": [
    {
     "name": "stdout",
     "output_type": "stream",
     "text": [
      "right\n",
      "left\n",
      "right\n",
      "victory:  7\n"
     ]
    }
   ],
   "source": [
    "def get_magic_number(a, almost_a = None, mid = None, dir = None):\n",
    "    if almost_a == None:\n",
    "        m = int(len(a)/2)\n",
    "    else:\n",
    "        m = int(len(almost_a)/2)\n",
    "\n",
    "    \n",
    "    if dir == 'l':\n",
    "        m = mid-m\n",
    "\n",
    "    elif dir == 'r':\n",
    "        m = mid+m\n",
    "        \n",
    "    if a[m] == m:\n",
    "        print('victory: ', m)\n",
    "        return m\n",
    "\n",
    "    elif a[m] > m:\n",
    "        print('left')\n",
    "        get_magic_number(a, a[:m], m, 'l')\n",
    "\n",
    "    elif a[m] < m:\n",
    "        print('right')\n",
    "        get_magic_number(a, a[m:], m, 'r')\n",
    "    \n",
    "a = [-10, -5, 1, 2, 2, 3, 4, 7, 9, 12, 13]\n",
    "get_magic_number(a)"
   ]
  },
  {
   "cell_type": "markdown",
   "id": "921da6fe-16eb-42cf-bdab-fecc6ed524fd",
   "metadata": {},
   "source": [
    "#### Optimized"
   ]
  },
  {
   "cell_type": "code",
   "execution_count": 64,
   "id": "d4b7add3-7257-44b6-bb2a-bfefd119817e",
   "metadata": {},
   "outputs": [
    {
     "name": "stdout",
     "output_type": "stream",
     "text": [
      "Magic index: 7\n"
     ]
    }
   ],
   "source": [
    "def find_magic_index(arr, left, right):\n",
    "    if left > right:\n",
    "        return None  # No magic index found\n",
    "\n",
    "    mid = (left + right) // 2\n",
    "\n",
    "    if arr[mid] == mid:\n",
    "        return mid  # Magic index found\n",
    "\n",
    "    # Check the left half\n",
    "    left_result = find_magic_index(arr, left, min(mid - 1, arr[mid]))\n",
    "\n",
    "    if left_result is not None:\n",
    "        return left_result\n",
    "\n",
    "    # Check the right half\n",
    "    return find_magic_index(arr, max(mid + 1, arr[mid]), right)\n",
    "\n",
    "def get_magic_number(arr):\n",
    "    return find_magic_index(arr, 0, len(arr) - 1)\n",
    "\n",
    "# Example usage:\n",
    "arr = [-10, -5, 1, 2, 2, 3, 4, 7, 9, 12, 13]\n",
    "result = get_magic_number(arr)\n",
    "if result is not None:\n",
    "    print(\"Magic index:\", result)\n",
    "else:\n",
    "    print(\"No magic index found\")"
   ]
  },
  {
   "cell_type": "code",
   "execution_count": null,
   "id": "9734f615-b413-4151-b4dc-0e26bf5009f5",
   "metadata": {},
   "outputs": [],
   "source": []
  },
  {
   "cell_type": "code",
   "execution_count": null,
   "id": "dc7bfefa-d25c-40cf-924f-0f8aeb89d5c2",
   "metadata": {},
   "outputs": [],
   "source": []
  },
  {
   "cell_type": "code",
   "execution_count": null,
   "id": "15cd82ca-ea64-43ed-9f34-e8b53b2de6b4",
   "metadata": {},
   "outputs": [],
   "source": []
  },
  {
   "cell_type": "markdown",
   "id": "2637bad9-d865-483b-b0dd-3ad5257abd3c",
   "metadata": {},
   "source": [
    "#### Exercise 8.4\n",
    "**Power Set:** Write a method to return all subsets of a set.\n",
    "\n",
    "**Hints:** \n",
    "- #273: How can you build all subsets of {a, b, c} from the subsets of {a, b}?\n",
    "- #290: Anything that is a subset of {a, b} is also a subset of {a, b, c}. Which sets are subsets of{a, b, c}but not{a, b}?\n",
    "- #338: Subsets that contain c will be subsets {a, b, c} but not {a, b}. Can you build these subsets from the subsets of {a, b}?\n",
    "- #354: You can build the remaining subsets by adding c to all the subsets of {a, b}. \n",
    "- #373: You can also do this by mapping each subset to a binary number. The ith bit could represent a \"boolean\"flag for whether an element is in the set. "
   ]
  },
  {
   "cell_type": "code",
   "execution_count": 145,
   "id": "e52bc58b-b50a-4793-89c1-3469f0f35816",
   "metadata": {},
   "outputs": [
    {
     "name": "stdout",
     "output_type": "stream",
     "text": [
      "[[], [1], [2], [1, 2], [3], [1, 3], [2, 3], [1, 2, 3], [4], [1, 4], [2, 4], [1, 2, 4], [3, 4], [1, 3, 4], [2, 3, 4], [1, 2, 3, 4]]\n"
     ]
    }
   ],
   "source": [
    "def generate_power_set(input_set):\n",
    "    power_set = [[]]  # Start with an empty set\n",
    "\n",
    "    for element in input_set:\n",
    "        new_subsets = []\n",
    "        for subset in power_set:\n",
    "            new_subsets.append(subset + [element])  # Include the current element\n",
    "            #print(f'new_subsets {new_subsets}')\n",
    "        power_set.extend(new_subsets)  # Add new subsets to the power set\n",
    "        #print(f'power_set {power_set}')\n",
    "\n",
    "    return power_set\n",
    "\n",
    "# Example usage:\n",
    "input_set = {1, 2, 3,4}\n",
    "result = generate_power_set(input_set)\n",
    "print(result)"
   ]
  },
  {
   "cell_type": "code",
   "execution_count": null,
   "id": "4be06f7d-e1a4-4bf0-919b-fd857b90d6b6",
   "metadata": {},
   "outputs": [],
   "source": []
  },
  {
   "cell_type": "code",
   "execution_count": null,
   "id": "275add1e-340b-46a8-bad1-e8fdbdfcf737",
   "metadata": {},
   "outputs": [],
   "source": []
  },
  {
   "cell_type": "markdown",
   "id": "e5faad13-c1f1-41e6-a18d-7bf56108716d",
   "metadata": {},
   "source": [
    "#### Exercise 8.5\n",
    "**Recursive Multiply:** Write a recursive function to multiply two positive integers without using the * operator.You can use addition, subtraction, and bit shifting, but you should minimize the number of those operations.\n",
    "\n",
    "**Hints:** \n",
    "- #166: Think about multiplying 8 by 9 as counting the number of cells in a matrix with width 8 and height 9. \n",
    "- #203: If you wanted to count the cells in an 8x9 matrix, you could count the cells in a 4x9 matrix and then double it. \n",
    "- #227: Think about how you might handle this for odd numbers. \n",
    "- #234: If there's duplicated work across different recursive calls, can you cache it? \n",
    "- #246: If you're doing 9*7 (both odd numbers), then you could do 4*7 and 5*7. \n",
    "- #280: Alternatively, if you're doing 9 * 7, you could do 4*7, double that, and then add 7."
   ]
  },
  {
   "cell_type": "code",
   "execution_count": null,
   "id": "9f64f681-7674-44b7-860a-d5c5a3a95888",
   "metadata": {},
   "outputs": [],
   "source": [
    "def multiply(a,b):\n",
    "    # Base Cases\n",
    "    # 1.- multiply by 0\n",
    "    if a == 0 or b == 0:\n",
    "        return 0\n",
    "    # 2.- Multiply by 1\n",
    "        if a == 1:\n",
    "            return b\n",
    "        elif b == 1:\n",
    "            return a\n",
    "\n",
    "    # Odd Numbers:\n",
    "        if a % 2 != 0:\n",
    "            a + multiply(a//2, b)\n",
    "\n",
    "        if b % 2 != 0:\n",
    "\n",
    "    # Pair Number\n",
    "        \n",
    "\n",
    "    # Multiply by 10:"
   ]
  },
  {
   "cell_type": "code",
   "execution_count": 149,
   "id": "9e577ad6-8f9b-4948-9ad2-8d871fc9c271",
   "metadata": {},
   "outputs": [
    {
     "data": {
      "text/plain": [
       "10"
      ]
     },
     "execution_count": 149,
     "metadata": {},
     "output_type": "execute_result"
    }
   ],
   "source": [
    "20 // 2"
   ]
  },
  {
   "cell_type": "code",
   "execution_count": 155,
   "id": "b7248d51-cb04-4b35-8f59-65a66aacf4cf",
   "metadata": {},
   "outputs": [
    {
     "name": "stdout",
     "output_type": "stream",
     "text": [
      "n_steps:  23\n",
      "result =  1150\n"
     ]
    },
    {
     "data": {
      "text/plain": [
       "1150"
      ]
     },
     "execution_count": 155,
     "metadata": {},
     "output_type": "execute_result"
    }
   ],
   "source": [
    "def multiply(a,b):\n",
    "    res = 0\n",
    "    n_steps = 0\n",
    "    \n",
    "    if a <= b:\n",
    "        for i in range(a):\n",
    "            res += b \n",
    "            n_steps += 1\n",
    "    else:\n",
    "        for i in range(b):\n",
    "            res += a\n",
    "            n_steps += 1\n",
    "\n",
    "    print('n_steps: ', n_steps)\n",
    "    print('result = ', res)\n",
    "    return res\n",
    "\n",
    "multiply(23,50)"
   ]
  },
  {
   "cell_type": "code",
   "execution_count": 172,
   "id": "3b11fff9-b625-4969-b517-8ab70ee7af17",
   "metadata": {},
   "outputs": [
    {
     "name": "stdout",
     "output_type": "stream",
     "text": [
      "70\n"
     ]
    }
   ],
   "source": [
    "def multiply(a,b):\n",
    "    n_steps = 0\n",
    "    res = 0\n",
    "    \n",
    "    def multiply_rec(a, b, n_steps, res):\n",
    "        if a <= b:\n",
    "            if n_steps != a:\n",
    "                n_steps += 1\n",
    "                res = multiply_rec(a, b, n_steps, res) + b\n",
    "                \n",
    "\n",
    "        elif b < a:\n",
    "            if n_steps != b:\n",
    "                n_steps += 1\n",
    "                res += multiply_rec(a, b, n_steps, res) + a\n",
    "        \n",
    "        return res\n",
    "\n",
    "    print(multiply_rec(a, b, n_steps, res))\n",
    "\n",
    "multiply(10,7)\n",
    "    \n",
    "            "
   ]
  },
  {
   "cell_type": "code",
   "execution_count": null,
   "id": "f9220903-13db-4c7a-8cea-4a0b0d03ba18",
   "metadata": {},
   "outputs": [],
   "source": []
  },
  {
   "cell_type": "code",
   "execution_count": null,
   "id": "4310b3d5-0144-4dd0-925a-055498ececa9",
   "metadata": {},
   "outputs": [],
   "source": []
  },
  {
   "cell_type": "code",
   "execution_count": 177,
   "id": "68981a6c-e6f6-432d-a434-357f0d6bd05a",
   "metadata": {},
   "outputs": [],
   "source": [
    "def min_product(a, b):\n",
    "    bigger = max(a, b)\n",
    "    smaller = min(a, b)\n",
    "    return min_product_helper(smaller, bigger)\n",
    "\n",
    "def min_product_helper(smaller, bigger):\n",
    "    if smaller == 0:\n",
    "        return 0\n",
    "    elif smaller == 1:\n",
    "        return bigger\n",
    "\n",
    "    s = smaller >> 1  # Integer division by 2 using bit shift\n",
    "    print('smaller = ', smaller)\n",
    "    print('s = ', s)\n",
    "    half_prod = min_product_helper(s, bigger)\n",
    "    print('half_prod = ', half_prod)\n",
    "\n",
    "    if smaller % 2 == 0:\n",
    "        return half_prod + half_prod\n",
    "    else:\n",
    "        return half_prod + half_prod + bigger"
   ]
  },
  {
   "cell_type": "code",
   "execution_count": 179,
   "id": "ce2d2452-6fe0-4b2a-917c-1c5036b21744",
   "metadata": {},
   "outputs": [
    {
     "name": "stdout",
     "output_type": "stream",
     "text": [
      "smaller =  5\n",
      "s =  2\n",
      "smaller =  2\n",
      "s =  1\n",
      "half_prod =  9\n",
      "half_prod =  18\n"
     ]
    },
    {
     "data": {
      "text/plain": [
       "45"
      ]
     },
     "execution_count": 179,
     "metadata": {},
     "output_type": "execute_result"
    }
   ],
   "source": [
    "min_product(5,9)"
   ]
  },
  {
   "cell_type": "code",
   "execution_count": null,
   "id": "d6c37f1f-ec6f-42a3-848e-10b4d464caee",
   "metadata": {},
   "outputs": [],
   "source": []
  },
  {
   "cell_type": "markdown",
   "id": "0ab307e5-fe3d-4319-b797-128cde7cc2b2",
   "metadata": {},
   "source": [
    "#### Exercise 8.6\n",
    "**Towers of Hanoi:** In the classic problem of the Towers of Hanoi, you have 3 towers and N disks of different sizes which can slide onto any tower. The puzzle starts with disks sorted in ascending order of size from top to bottom (i.e., each disk sits on top of an even larger one). You have the following constraints:\n",
    "\n",
    "(1) Only one disk can be moved at a time.\n",
    "\n",
    "(2) A disk is slid off the top of one tower onto another tower.\n",
    "\n",
    "(3) A disk cannot be placed on top of a smaller disk.\n",
    "\n",
    "Write a program to move the disks from the first tower to the last using stacks.\n",
    "\n",
    "**Hints:** \n",
    "- #144: Try the Base Case and Build approach. \n",
    "- #224: You can easily move the smallest disk from one tower to another. It's also pretty easy to move the smallest two disks from one tower to another. Can you move the smallest three disks? \n",
    "- #250: Think about moving the smallest disk from tower X=0 to towerY=2 using tower Z=1 as a temporary holding spot as having a solution for f(1, X=0, Y=2, Z=1). Moving the smallest two disks is f(2, X=0, Y=2, Z=1). Given that you have a solution for f(l, X=0, Y=2, Z=l) andf(2, X=0, Y=2, Z=1),can you solvef(3, X=0, Y=2, Z=1)? \n",
    "- #272: Observe that it doesn't really matter which tower is the source, destination, or buffer. You can dof(3, X=0, Y=2, Z=l) byfirst doingf(2, X=0, Y=l, Z=2) (moving two disks from tower Oto tower 1, using tower 2 as a buffer), then moving disk 3 from tower Oto tower 2, then doing f ( 2, X=l, Y=2, Z=0) (moving two disks from tower 1 to tower 2, using tower Oas a buffer). How does this process repeat?\n",
    "- #318: If you're having trouble with recursion, then try trusting the recursive process more. Once you've figured out how to move the top two disks from tower O to tower 2, trust that you have this working. When you need to move three disks, trust that you can move two disks from one tower to another. Now, two disks have been moved. What do you do about the third?"
   ]
  },
  {
   "cell_type": "markdown",
   "id": "f51ffe77-ac05-4057-94cb-187a518d9131",
   "metadata": {},
   "source": [
    "https://www.youtube.com/watch?v=YstLjLCGmgg"
   ]
  },
  {
   "cell_type": "code",
   "execution_count": 190,
   "id": "4b838bc5-436a-48b1-9faf-02a3174945cf",
   "metadata": {},
   "outputs": [
    {
     "name": "stdout",
     "output_type": "stream",
     "text": [
      "Move disk 1 from rod A, to rod B\n",
      "Move disk 2 from rod A to rod C\n",
      "Move disk 1 from rod B, to rod C\n",
      "Move disk 3 from rod A to rod B\n",
      "Move disk 1 from rod C, to rod A\n",
      "Move disk 2 from rod C to rod B\n",
      "Move disk 1 from rod A, to rod B\n",
      "Move disk 4 from rod A to rod C\n",
      "Move disk 1 from rod B, to rod C\n",
      "Move disk 2 from rod B to rod A\n",
      "Move disk 1 from rod C, to rod A\n",
      "Move disk 3 from rod B to rod C\n",
      "Move disk 1 from rod A, to rod B\n",
      "Move disk 2 from rod A to rod C\n",
      "Move disk 1 from rod B, to rod C\n"
     ]
    }
   ],
   "source": [
    "def towerOfHanoi(n, source, destination, aux):\n",
    "    if n == 1:\n",
    "        print(f'Move disk 1 from rod {source}, to rod {destination}')\n",
    "        return\n",
    "    towerOfHanoi(n-1, source, aux, destination)\n",
    "    print(f'Move disk {n} from rod {source} to rod {destination}')\n",
    "    towerOfHanoi(n-1, aux, destination, source)\n",
    "\n",
    "towerOfHanoi(4, 'A', 'C', 'B')"
   ]
  },
  {
   "cell_type": "code",
   "execution_count": null,
   "id": "8544c5c1-271f-436b-9ed8-34c00acf8969",
   "metadata": {},
   "outputs": [],
   "source": []
  },
  {
   "cell_type": "markdown",
   "id": "ef5abc4b-f79b-40a8-8d49-254c924f983e",
   "metadata": {},
   "source": [
    "#### Exercise 8.7\n",
    "**Permutations without Dups:** Write a method to compute all permutations of a string of unique\n",
    "characters.\n",
    "\n",
    "**Hints:**\n",
    "- #150: Approach 1: Suppose you had all permutations of abc. How can you use that to get all permutations of abed? \n",
    "- #185: Approach 1: The permutations of abc represent all ways of ordering abc. Now, we want to create all orderings of abed. Take a specific ordering of abed, such as bdea. This bdea string represents an ordering of abe, too: Remove the d and you get bea. Given the string bca, can you create all the\"related\" orderings that include d, too? \n",
    "- #200: Approach 1: Given a string such as bca, you can create all permutations of abed that have {a, b, c} in the order bca by inserting d into each possible location: dbca, bdca, beda, bead. Given all permutations of abc, can you then create all permutations of abed? \n",
    "- #267: Approach 1: You can create all permutations of abed by computing all permutations of abc and then inserting d into each possible location within those. \n",
    "- #278: Approach 2: If you had all permutations of two-character substrings, could you generate all permutations of three-character substrings? \n",
    "- #309: Approach 2: To generate a permutation of abed, you need to pick an initial character. It can be a, b, c, or d. You can then permute the remaining characters. How can you use this approach to generate all permutations of the full string?\n",
    "- #335: Approach 2: To generate all permutations of abed, pick each character (a, b, c, or d) as a starting character. Permute the remaining characters and prepend the starting character. How do you permute the remaining characters? With a recursive process that follows the same logic. \n",
    "- #356: Approach 2: You can implement this approach by having the recursive function pass back the list of the strings, and then you prepend the starting character to it. Or, you can push down a prefix to the recursive calls. "
   ]
  },
  {
   "cell_type": "code",
   "execution_count": 194,
   "id": "f546d4c8-98d6-47f8-bf00-9646861d2f92",
   "metadata": {
    "scrolled": true
   },
   "outputs": [
    {
     "data": {
      "text/plain": [
       "['abcd',\n",
       " 'abdc',\n",
       " 'acbd',\n",
       " 'acdb',\n",
       " 'adbc',\n",
       " 'adcb',\n",
       " 'bacd',\n",
       " 'badc',\n",
       " 'bcad',\n",
       " 'bcda',\n",
       " 'bdac',\n",
       " 'bdca',\n",
       " 'cabd',\n",
       " 'cadb',\n",
       " 'cbad',\n",
       " 'cbda',\n",
       " 'cdab',\n",
       " 'cdba',\n",
       " 'dabc',\n",
       " 'dacb',\n",
       " 'dbac',\n",
       " 'dbca',\n",
       " 'dcab',\n",
       " 'dcba']"
      ]
     },
     "execution_count": 194,
     "metadata": {},
     "output_type": "execute_result"
    }
   ],
   "source": [
    "def get_permutations(inp):\n",
    "    # Create a list to store permutations\n",
    "    permutations = []\n",
    "    \n",
    "    # Base case Empty string:\n",
    "    if len(inp) == 0:\n",
    "        permutations.append(\"\")\n",
    "        return permutations\n",
    "\n",
    "    # Iterate through each character in the input string\n",
    "    for i in range(len(inp)):\n",
    "        # pick the ith element as starting character:\n",
    "        start_char = inp[i]\n",
    "\n",
    "        # Create substring without the character\n",
    "        remaining_chars = inp[:i] + inp[i + 1:]\n",
    "\n",
    "        # recursively compute permutations of the ramaining characters\n",
    "        sub_permutations = get_permutations(remaining_chars)\n",
    "\n",
    "        # Prepend the starting character to each sub-permutation\n",
    "        for sub_permutation in sub_permutations:\n",
    "            permutations.append(start_char + sub_permutation)\n",
    "\n",
    "    return permutations\n",
    "\n",
    "\n",
    "st = 'abcd'\n",
    "get_permutations(st)"
   ]
  },
  {
   "cell_type": "code",
   "execution_count": null,
   "id": "190fdf1c-b119-4f5f-b017-acb598efb3d5",
   "metadata": {},
   "outputs": [],
   "source": []
  },
  {
   "cell_type": "markdown",
   "id": "7d590beb-ddca-4f9b-82f9-0161d693aa8c",
   "metadata": {},
   "source": [
    "#### Exercise 8.8\n",
    "\n",
    "**Permutations with Dups:** Write a method to compute all permutations of a string whose characters are not necessarily unique. The list of permutations should not have duplicates. \n",
    "\n",
    "**Hints:**\n",
    "- #161: You could handle this by just checking to see if there are duplicates before printing them (or adding them to a list). You can do this with a hash table. In what case might this be okay? In what case might it not be a very good solution? \n",
    "- #190: If you haven't solved 8.7 yet, do that one first. \n",
    "- #222: Try getting the count of each character. For example, ABCMC has 3 As, 2 Cs, and 1 B. \n",
    "- #255: To get all permutations with 3 As, 2 Cs, and 1 B, you need to first pick a starting character: A, B, or C. If it's an A, then you need all permutations with 2 As, 2 Cs, and 1 B. "
   ]
  },
  {
   "cell_type": "code",
   "execution_count": 202,
   "id": "9feb0a16-d9b1-4dcc-9f03-95b0610418d3",
   "metadata": {},
   "outputs": [
    {
     "name": "stdout",
     "output_type": "stream",
     "text": [
      "['aabbbb', 'ababbb', 'abbabb', 'abbbab', 'abbbba', 'baabbb', 'bababb', 'babbab', 'babbba', 'bbaabb', 'bbabab', 'bbabba', 'bbbaab', 'bbbaba', 'bbbbaa']\n"
     ]
    }
   ],
   "source": [
    "def get_permutations_with_dups(input_string):\n",
    "    def count_chars(input_string):\n",
    "        char_count = {}\n",
    "        for char in input_string:\n",
    "            if char in char_count:\n",
    "                char_count[char] += 1\n",
    "            else:\n",
    "                char_count[char] = 1\n",
    "        return char_count\n",
    "\n",
    "    def _get_permutations(char_count, prefix):\n",
    "        if len(prefix) == len(input_string):\n",
    "            permutations.append(prefix)\n",
    "            return\n",
    "\n",
    "        for char in char_count:\n",
    "            if char_count[char] > 0:\n",
    "                char_count[char] -= 1\n",
    "                _get_permutations(char_count, prefix + char)\n",
    "                char_count[char] += 1\n",
    "\n",
    "    char_count = count_chars(input_string)\n",
    "    permutations = []\n",
    "    _get_permutations(char_count, \"\")\n",
    "    return permutations\n",
    "\n",
    "# Example usage:\n",
    "input_string = \"abbbba\"\n",
    "result = get_permutations_with_dups(input_string)\n",
    "print(result)"
   ]
  },
  {
   "cell_type": "code",
   "execution_count": null,
   "id": "0f75f6d2-9d03-4aa7-942f-0e48321eb11f",
   "metadata": {},
   "outputs": [],
   "source": []
  },
  {
   "cell_type": "markdown",
   "id": "3459822b-6310-49bd-b9d9-1def26bdca9c",
   "metadata": {},
   "source": [
    "#### Exercise 8.9\n",
    "\n",
    "**Parens:** Implement an algorithm to print all valid (e.g., properly opened and closed) combinations of n pairs of parentheses.\n",
    "\n",
    "EXAMPLE\n",
    "\n",
    "Input: 3\n",
    "\n",
    "Output: ((())) , (()()) , (())() , ()(()) , ()()()\n",
    "\n",
    "**Hints:** \n",
    "- #138: Try the Base Case and Build approach.\n",
    "- #174: Suppose we had all valid ways of writing two pairs of parentheses. How could we use this to get all valid ways of writing three pairs? \n",
    "- #187: We could try generating the solution for three pairs by taking the list of two pairs of parentheses and adding a third pair. We'd have to add the third paren before, around, and after. That is: ()<SOLUTION>, (<SOLUTION>), <SOLUTION>(). Will this work?\n",
    "- #209: The system will be write-heavy: Lots of data being imported, but it's rarely being read.\n",
    "- #243: Alternatively, we could think about doing this by moving through the string and adding left and right parens at each step. Will this eliminate duplicates? How do we know if we can add a left or right paren? \n",
    "- #265: Adding a left or right paren at each step will eliminate duplicates. Each substring will be unique at each step. Therefore, the total string will be unique.\n",
    "- #295: We can ensure that this string is valid by counting the number of left and right parens. It is always valid to add a left paren, up until the total number of pairs of parens. We can add a right paren aslong ascount(left parens) <= count(right parens). "
   ]
  },
  {
   "cell_type": "code",
   "execution_count": 220,
   "id": "39296ed5-561c-4846-9aa7-cc2a46bad8b6",
   "metadata": {},
   "outputs": [
    {
     "name": "stdout",
     "output_type": "stream",
     "text": [
      "((()))\n",
      "(()())\n",
      "(())()\n",
      "()(())\n",
      "()()()\n"
     ]
    }
   ],
   "source": [
    "def generate_balanced_parentheses(n):\n",
    "    def _generate_parentheses(partial, open_count, close_count):\n",
    "        if len(partial) == 2 * n:\n",
    "            combinations.append(partial)\n",
    "            return\n",
    "\n",
    "        if open_count < n:\n",
    "            _generate_parentheses(partial + '(', open_count + 1, close_count)\n",
    "        if close_count < open_count:\n",
    "            _generate_parentheses(partial + ')', open_count, close_count + 1)\n",
    "\n",
    "    combinations = []\n",
    "    _generate_parentheses('', 0, 0)\n",
    "    return combinations\n",
    "\n",
    "n = 3\n",
    "combinations = generate_balanced_parentheses(n)\n",
    "for combination in combinations:\n",
    "    print(combination)"
   ]
  },
  {
   "cell_type": "code",
   "execution_count": null,
   "id": "67bb5dc4-0b35-4c49-bf30-ca13ad78b7d8",
   "metadata": {},
   "outputs": [],
   "source": []
  },
  {
   "cell_type": "code",
   "execution_count": null,
   "id": "55627594-9b92-4120-9c67-b538a488f3f9",
   "metadata": {},
   "outputs": [],
   "source": []
  },
  {
   "cell_type": "markdown",
   "id": "2f0e8654-1139-4245-b602-331c1dba627b",
   "metadata": {},
   "source": [
    "#### Exercise 8.10\n",
    "\n",
    "**Paint Fill:** Implement the \"paint fill\" function that one might see on many image editing programs. That is, given a screen (represented by a two-dimensional array of colors), a point, and a new color, fill in the surrounding area until the color changes from the original color.\n",
    "\n",
    "**Hints:** \n",
    "- #364: Think about this as a graph. \n",
    "- #382: You can implement this using depth-first search (or breadth-first search). Each adjacent \n",
    "pixel of the \"right\" color is a connected edge"
   ]
  },
  {
   "cell_type": "code",
   "execution_count": 27,
   "id": "230e8a25-b61f-47a4-a3cc-b46e585554ae",
   "metadata": {},
   "outputs": [
    {
     "name": "stdout",
     "output_type": "stream",
     "text": [
      "['R', 'G', 'R', 'G', 'R']\n",
      "['G', 'G', 'G', 'G', 'G']\n",
      "['G', 'R', 'R', 'G', 'R']\n",
      "['R', 'G', 'G', 'R', 'G']\n",
      "['G', 'R', 'G', 'R', 'G']\n",
      "\n"
     ]
    }
   ],
   "source": [
    "import random\n",
    "\n",
    "n = 5\n",
    "old = 'G'\n",
    "new = 'B'\n",
    "grid = [[old if random.random() < 0.5 else 'R' for i in range(n)] for j in range(n)]\n",
    "for i in grid:\n",
    "    print(i)\n",
    "\n",
    "print()    "
   ]
  },
  {
   "cell_type": "code",
   "execution_count": 30,
   "id": "37370437-a696-4c4e-a78b-9f7d8fdbc932",
   "metadata": {},
   "outputs": [
    {
     "name": "stdout",
     "output_type": "stream",
     "text": [
      "['R', 'R', 'R', 'G', 'G']\n",
      "['R', 'R', 'R', 'R', 'G']\n",
      "['R', 'R', 'B', 'R', 'G']\n",
      "['R', 'B', 'R', 'R', 'G']\n",
      "['R', 'R', 'R', 'R', 'G']\n"
     ]
    }
   ],
   "source": [
    "def paint_fill(screen, x, y, new_color):\n",
    "    def fill(x, y, original_color):\n",
    "        if (x < 0 or x >= len(screen) or y < 0 or y >= len(screen[0]) or screen[x][y] != original_color):\n",
    "            return\n",
    "\n",
    "        screen[x][y] = new_color  # Change the color at (x, y) to the new color\n",
    "\n",
    "        # Recursively fill adjacent pixels\n",
    "        fill(x - 1, y, original_color)  # Left\n",
    "        fill(x + 1, y, original_color)  # Right\n",
    "        fill(x, y - 1, original_color)  # Up\n",
    "        fill(x, y + 1, original_color)  # Down\n",
    "        fill(x - 1, y - 1, original_color)\n",
    "        fill(x + 1, y - 1, original_color)\n",
    "        fill(x - 1, y + 1, original_color)\n",
    "        fill(x + 1, y + 1, original_color)\n",
    "    \n",
    "    if screen[x][y] != new_color:\n",
    "        fill(x, y, screen[x][y])\n",
    "\n",
    "# Example usage:\n",
    "screen = [\n",
    "    ['R', 'R', 'R', 'G', 'G'],\n",
    "    ['R', 'R', 'R', 'R', 'G'],\n",
    "    ['R', 'R', 'G', 'R', 'G'],\n",
    "    ['R', 'G', 'R', 'R', 'G'],\n",
    "    ['R', 'R', 'R', 'R', 'G']\n",
    "]\n",
    "\n",
    "x, y = 2, 2  # Starting point\n",
    "new_color = 'B'\n",
    "\n",
    "paint_fill(screen, x, y, new_color)\n",
    "\n",
    "# Print the updated screen\n",
    "for row in screen:\n",
    "    print(row)"
   ]
  },
  {
   "cell_type": "code",
   "execution_count": null,
   "id": "5a3b60cb-75e9-486a-b865-f9f6dcc83722",
   "metadata": {},
   "outputs": [],
   "source": []
  },
  {
   "cell_type": "code",
   "execution_count": 31,
   "id": "61762d17-f52a-4417-bd29-0d2f00ac3f22",
   "metadata": {},
   "outputs": [
    {
     "name": "stdout",
     "output_type": "stream",
     "text": [
      "['R', 'R', 'R', 'G', 'G']\n",
      "['R', 'R', 'R', 'R', 'G']\n",
      "['R', 'R', 'B', 'R', 'G']\n",
      "['R', 'G', 'R', 'R', 'G']\n",
      "['R', 'R', 'R', 'R', 'G']\n"
     ]
    }
   ],
   "source": [
    "def paint_fill(screen, x, y, new_color):\n",
    "    original_color = screen[x][y]\n",
    "    \n",
    "    def fill(x, y):\n",
    "        if (\n",
    "            x < 0 or x >= len(screen) or\n",
    "            y < 0 or y >= len(screen[0]) or\n",
    "            screen[x][y] != original_color\n",
    "        ):\n",
    "            return\n",
    "\n",
    "        screen[x][y] = new_color  # Change the color at (x, y) to the new color\n",
    "\n",
    "        # Recursively fill adjacent pixels\n",
    "        fill(x - 1, y)  # Left\n",
    "        fill(x + 1, y)  # Right\n",
    "        fill(x, y - 1)  # Up\n",
    "        fill(x, y + 1)  # Down\n",
    "\n",
    "    if original_color != new_color:\n",
    "        fill(x, y)\n",
    "\n",
    "# Example usage:\n",
    "screen = [\n",
    "    ['R', 'R', 'R', 'G', 'G'],\n",
    "    ['R', 'R', 'R', 'R', 'G'],\n",
    "    ['R', 'R', 'G', 'R', 'G'],\n",
    "    ['R', 'G', 'R', 'R', 'G'],\n",
    "    ['R', 'R', 'R', 'R', 'G']\n",
    "]\n",
    "\n",
    "x, y = 2, 2  # Starting point\n",
    "new_color = 'B'\n",
    "\n",
    "paint_fill(screen, x, y, new_color)\n",
    "\n",
    "# Print the updated screen\n",
    "for row in screen:\n",
    "    print(row)"
   ]
  },
  {
   "cell_type": "code",
   "execution_count": null,
   "id": "f14af38b-26dd-4033-97d0-6af630e66175",
   "metadata": {},
   "outputs": [],
   "source": []
  },
  {
   "cell_type": "code",
   "execution_count": null,
   "id": "e6c2e64b-ec08-44be-a045-4f3f0afb922a",
   "metadata": {},
   "outputs": [],
   "source": []
  },
  {
   "cell_type": "markdown",
   "id": "2daa9611-6437-4e25-85f2-53624b4b1f86",
   "metadata": {},
   "source": [
    "#### Exercise 8.11\n",
    "**Coins:** Given an infinite number of quarters (25 cents), dimes (10 cents), nickels (5 cents), and pennies (1 cent), write code to calculate the number of ways of representing n cents.\n",
    "\n",
    "**Hints:** \n",
    "- #300: \n",
    "- #324: \n",
    "- #343: \n",
    "- #380: \n",
    "- #394:"
   ]
  },
  {
   "cell_type": "code",
   "execution_count": 50,
   "id": "1b19dec9-c3f1-4d5b-b139-1b9870509532",
   "metadata": {},
   "outputs": [
    {
     "name": "stdout",
     "output_type": "stream",
     "text": [
      "Total Amount: Cash = 8\n",
      "3\n"
     ]
    }
   ],
   "source": [
    "def ways_to_cash(cash):\n",
    "    print('Total Amount: Cash =', cash)\n",
    "\n",
    "    def pennies_helper(actual, coin):\n",
    "        if actual < coin:\n",
    "            #print('actual < coin')\n",
    "            return 0\n",
    "            \n",
    "        elif actual == coin:\n",
    "            return 1\n",
    "        \n",
    "        else:\n",
    "            return pennies_helper(actual-coin, 25) + pennies_helper(actual-coin, 10) + pennies_helper(actual-coin, 5) + pennies_helper(actual-coin, 1)\n",
    "            \n",
    "    \n",
    "    paths = pennies_helper(cash-25, 25) + pennies_helper(cash-10, 10) + pennies_helper(cash-5, 5) + pennies_helper(cash-1, 1)\n",
    "\n",
    "    return paths\n",
    "\n",
    "paths = ways_to_cash(8)\n",
    "print(paths)"
   ]
  },
  {
   "cell_type": "code",
   "execution_count": null,
   "id": "0fbba83f-752c-44ab-acb8-7c0c07752b26",
   "metadata": {},
   "outputs": [],
   "source": []
  },
  {
   "cell_type": "code",
   "execution_count": null,
   "id": "a097c8bb-0e1f-4593-b6bc-b652c32d354d",
   "metadata": {},
   "outputs": [],
   "source": []
  },
  {
   "cell_type": "code",
   "execution_count": 58,
   "id": "636d79d1-b2e4-49df-ad4e-acb417762c9c",
   "metadata": {},
   "outputs": [
    {
     "name": "stdout",
     "output_type": "stream",
     "text": [
      "Total Amount: Cash = 8\n",
      "3\n"
     ]
    }
   ],
   "source": [
    "def ways_to_cash(cash):\n",
    "    print('Total Amount: Cash =', cash)\n",
    "\n",
    "    memo = {}\n",
    "\n",
    "    def pennies_helper(actual, coin):\n",
    "        if actual < coin:\n",
    "            #print('actual < coin')\n",
    "            return 0\n",
    "            \n",
    "        elif actual == coin:\n",
    "            return 1\n",
    "            \n",
    "        elif (actual, coin) in memo:\n",
    "            return memo[(actual, coin)]\n",
    "        \n",
    "        else:\n",
    "            ways = pennies_helper(actual-coin, 25) + pennies_helper(actual-coin, 10) + pennies_helper(actual-coin, 5) + pennies_helper(actual-coin, 1)\n",
    "            memo[(actual, coin)] = ways\n",
    "            return ways\n",
    "    \n",
    "    paths = pennies_helper(cash-25, 25) + pennies_helper(cash-10, 10) + pennies_helper(cash-5, 5) + pennies_helper(cash-1, 1)\n",
    "\n",
    "    return paths\n",
    "\n",
    "paths = ways_to_cash(8)\n",
    "print(paths)"
   ]
  },
  {
   "cell_type": "code",
   "execution_count": null,
   "id": "289e192e-7a71-4238-bd59-20b473e9923e",
   "metadata": {},
   "outputs": [],
   "source": []
  },
  {
   "cell_type": "code",
   "execution_count": null,
   "id": "50c0f8c2-638b-4126-be4b-8a5807edc9e8",
   "metadata": {},
   "outputs": [],
   "source": []
  },
  {
   "cell_type": "markdown",
   "id": "7dae15b5-a536-45b8-aabb-eea45dc8619a",
   "metadata": {},
   "source": [
    "#### Exercise 8.12\n",
    "\n",
    "**Eight Queens:** Write an algorithm to print all ways of arranging eight queens on an 8x8 chess board so that none of them share the same row, column, or diagonal. In this case, \"diagonal\" means all diagonals, not just the two that bisect the board.\n",
    "\n",
    "**Hints:** \n",
    "- #308: We know that each row must have a queen. Can you try all possibilities?\n",
    "- #350: Each row must have a queen. Start with the last row. There are eight different columns on which you can put a queen. Can you try each of these? \n",
    "- #371: Break this down into smaller subproblems. The queen at row 8 must be at column 1, 2, 3, 4, 5, 6, 7, or 8. Can you print all ways of placing eight queens where a queen is at row 8 and column 3? You then need to check all the ways of placing a queen on row 7. "
   ]
  },
  {
   "cell_type": "code",
   "execution_count": 4,
   "id": "aae64bb3-ec9e-49f3-af25-b6443d6460fa",
   "metadata": {},
   "outputs": [
    {
     "name": "stdout",
     "output_type": "stream",
     "text": [
      "initialized board  [['.', '.', '.', '.'], ['.', '.', '.', '.'], ['.', '.', '.', '.'], ['.', '.', '.', '.']]\n",
      "[['.Q..', '...Q', 'Q...', '..Q.'], ['..Q.', 'Q...', '...Q', '.Q..']]\n"
     ]
    }
   ],
   "source": [
    "n = 4\n",
    "\n",
    "# Every Queen has to be in a diferent ROW and in a different COLUMN\n",
    "# Patern in negative diagonal: Always Same computation (row - column) is constant: Increase column an row\n",
    "# Patern in positive diagonal: (row + colum) stays the same is constant: Row decrements while column increments\n",
    "\n",
    "# Now we can bruteforce placeing queens\n",
    "# . q . .\n",
    "# . . . q\n",
    "# q . . .\n",
    "# . . q .\n",
    "\n",
    "# We need a set to know if we can put there a neww queen\n",
    "def place_queens(n):\n",
    "    col = set()\n",
    "    posDiag = set() # (r + c)\n",
    "    negDiag = set() # (r - c)\n",
    "\n",
    "    res = []\n",
    "    board = [[\".\"]*n for i in range(n)]\n",
    "    print('initialized board ', board)\n",
    "\n",
    "    def backtrack(r):\n",
    "        if r == n:\n",
    "            copy = [\"\".join(row) for row in board]\n",
    "            res.append(copy)\n",
    "            return\n",
    "\n",
    "        for c in range(n):\n",
    "            if c in col or (r + c) in posDiag or (r - c) in negDiag:\n",
    "                continue\n",
    "\n",
    "            col.add(c)\n",
    "            posDiag.add(r + c)\n",
    "            negDiag.add(r - c)\n",
    "            board[r][c] = \"Q\"\n",
    "            \n",
    "            backtrack(r + 1)\n",
    "\n",
    "            col.remove(c)\n",
    "            posDiag.remove(r + c)\n",
    "            negDiag.remove(r - c)\n",
    "            board[r][c] = \".\"\n",
    "\n",
    "    backtrack(0)\n",
    "    return res\n",
    "\n",
    "r = place_queens(n)\n",
    "print(r)\n",
    "        "
   ]
  },
  {
   "cell_type": "code",
   "execution_count": null,
   "id": "bfe387de-ca3d-45c8-9a72-33cbb3b84ef4",
   "metadata": {},
   "outputs": [],
   "source": []
  },
  {
   "cell_type": "code",
   "execution_count": null,
   "id": "4cf251c7-216a-4758-a019-3982fa5d099a",
   "metadata": {},
   "outputs": [],
   "source": []
  },
  {
   "cell_type": "code",
   "execution_count": null,
   "id": "2e816575-437d-4fcc-8820-1d8a7047f261",
   "metadata": {},
   "outputs": [],
   "source": []
  },
  {
   "cell_type": "markdown",
   "id": "f87cfa4f-a380-414e-9a53-59e3bb8bb414",
   "metadata": {},
   "source": [
    "#### Exercise 8.13\n",
    "\n",
    "**Stack of Boxes:** You have a stack of n boxes, with widths wi , heights hi, and depths di. The boxes cannot be rotated and can only be stacked on top of one another if each box in the stack is strictly larger than the box above it in width, height, and depth. Implement a method to compute the height of the tallest possible stack. The height of a stack is the sum of the heights of each box.\n",
    "\n",
    "**Hints:**\n",
    "- #155: Will sorting the boxes help in any way?\n",
    "- #194: We can sort the boxes by any dimension in descending order. This will give us a partial order for the boxes, in that boxes later in the array must appear before boxes earlier in the array.\n",
    "- #214: Try to break it down into subproblems. \n",
    "- #260: Think about the first decision you have to make. The first decision is which box will be at the bottom.\n",
    "- #322: Once we pick the box on the bottom, we need to pick the second box. Then the third ox. \n",
    "- #368: Once you have a basic recursive algorithm implemented, think about if you can optimize it. Are there any repeated subproblems?\n",
    "- #378: Alternatively, we can think about the repeated choices as: Does the first box go on the stack? Does the second box go on the stack? And so on. "
   ]
  },
  {
   "cell_type": "code",
   "execution_count": 35,
   "id": "50cd37de-653c-4d58-a788-410c2653e4be",
   "metadata": {},
   "outputs": [
    {
     "data": {
      "text/plain": [
       "[(1, 2, 3),\n",
       " (2, 3, 2),\n",
       " (2, 3, 4),\n",
       " (3, 2, 5),\n",
       " (3, 4, 5),\n",
       " (4, 5, 6),\n",
       " (5, 6, 5),\n",
       " (5, 6, 7),\n",
       " (8, 1, 3)]"
      ]
     },
     "execution_count": 35,
     "metadata": {},
     "output_type": "execute_result"
    }
   ],
   "source": [
    "boxes = [\n",
    "    (1, 2, 3),\n",
    "    (2, 3, 4),\n",
    "    (3, 4, 5),\n",
    "    (4, 5, 6),\n",
    "    (5, 6, 7),\n",
    "    (8, 1, 3),\n",
    "    (3, 2, 5),\n",
    "    (2, 3, 2),\n",
    "    (5, 6, 5)\n",
    "]\n",
    "\n",
    "def quick_sort(boxes):\n",
    "    if len(boxes) <= 1:\n",
    "        return boxes\n",
    "        \n",
    "    mid = len(boxes)//2\n",
    "    pivot = boxes[mid]\n",
    "    left = [x for x in boxes if x < pivot]\n",
    "    middle = [x for x in boxes if x == pivot]\n",
    "    right = [x for x in boxes if x > pivot]\n",
    "\n",
    "    return quick_sort(left) + [pivot] + quick_sort(right)\n",
    "\n",
    "quick_sort(boxes)"
   ]
  },
  {
   "cell_type": "code",
   "execution_count": 37,
   "id": "eda56e05-0f75-4b33-8cdd-651e51169832",
   "metadata": {},
   "outputs": [
    {
     "name": "stdout",
     "output_type": "stream",
     "text": [
      "Tallest possible stack height: 15\n"
     ]
    }
   ],
   "source": [
    "def create_box(width, height, depth):\n",
    "    return [width, height, depth]\n",
    "\n",
    "def can_stack(box1, box2):\n",
    "    # Check if box1 can be stacked on top of box2\n",
    "    return all(box1[i] < box2[i] for i in range(3))\n",
    "\n",
    "def max_stack_height(boxes):\n",
    "    \n",
    "    def stack_height(index):\n",
    "        if memo[index] is not None:\n",
    "            return memo[index]\n",
    "\n",
    "        max_h = 0\n",
    "        for i in range(len(boxes)):\n",
    "            if i == index:\n",
    "                continue\n",
    "            if can_stack(boxes[index], boxes[i]):\n",
    "                max_h = max(max_h, stack_height(i))\n",
    "\n",
    "        memo[index] = max_h + boxes[index][1]\n",
    "        return memo[index]\n",
    "\n",
    "    # Sort the boxes in descending order by height\n",
    "    boxes.sort(key=lambda box: box[1], reverse=True)\n",
    "    \n",
    "    n = len(boxes)\n",
    "    memo = [None] * n\n",
    "    max_h = 0\n",
    "\n",
    "    for i in range(n):\n",
    "        max_h = max(max_h, stack_height(i))\n",
    "\n",
    "    return max_h\n",
    "\n",
    "# Example usage with the provided set of boxes\n",
    "boxes = [\n",
    "    create_box(1, 2, 3),\n",
    "    create_box(2, 3, 4),\n",
    "    create_box(3, 4, 5),\n",
    "    create_box(4, 4, 6),\n",
    "    create_box(5, 6, 7),\n",
    "    create_box(8, 1, 3),\n",
    "    create_box(3, 2, 5),\n",
    "    create_box(2, 3, 2),\n",
    "    create_box(5, 6, 5)\n",
    "]\n",
    "\n",
    "tallest_stack = max_stack_height(boxes)\n",
    "print(\"Tallest possible stack height:\", tallest_stack)"
   ]
  },
  {
   "cell_type": "code",
   "execution_count": null,
   "id": "9ff3998f-2d8e-4be4-b054-4a6eca98d060",
   "metadata": {},
   "outputs": [],
   "source": []
  },
  {
   "cell_type": "code",
   "execution_count": null,
   "id": "f043660b-88af-4f25-89c0-4b3ed2083d2b",
   "metadata": {},
   "outputs": [],
   "source": []
  },
  {
   "cell_type": "markdown",
   "id": "113e95c3-2af3-4081-b562-ede13a16e510",
   "metadata": {},
   "source": [
    "#### Exercise 8.14\n",
    "\n",
    "**Boolean Evaluation:** Given a boolean expression consisting of the symbols 0 (false), 1 (true), & (AND), I (OR), and ^ (XOR), and a desired boolean result value result, implement a function to count the number of ways of parenthesizing the expression such that it evaluates to result.\n",
    "\n",
    "EXAMPLE\n",
    "\n",
    "countEval(\"1^0|0|1\", false) -> 2\n",
    "\n",
    "countEval(\"0&0&0&1^1|0\", true) -> 10\n",
    "\n",
    "**Hints:** \n",
    "- #148: Can we just try all possibilities? What would this look like?\n",
    "- #168: We can think about each possibility as each place where we can put parentheses. This means around each operator, such that the expression is split at the operator. What is the base case? \n",
    "- #197: The base case is when we have a single value, 1 or 0. \n",
    "- #305: If your code looks really lengthy, with a lot of if's (for each possible operator, \"target\" boolean result, and left/right side), think about the relationship between the different parts. Try to simplify your code. It should not need a ton of complicated if-statements. For example, consider expressions of the form <LEFT>OR<RIGHT> versus <LEFT>AND<RIGHT>. Both may need to know the number of ways that the <LEFT> evaluates to true. See what code you can reuse. \n",
    "- #327: Look at your recursion. Do you have repeated calls anywhere? Can you memoize it?"
   ]
  },
  {
   "cell_type": "code",
   "execution_count": 43,
   "id": "84c49fd6-9d2b-45e5-98ac-b4705c6814d3",
   "metadata": {},
   "outputs": [
    {
     "name": "stdout",
     "output_type": "stream",
     "text": [
      "Number of ways: 2\n",
      "Number of ways: 32\n"
     ]
    }
   ],
   "source": [
    "def count_eval(expression, result, memo):\n",
    "    if len(expression) == 1:\n",
    "        return int(expression == result)\n",
    "\n",
    "    if memo.get((expression, result)) is not None:\n",
    "        return memo[(expression, result)]\n",
    "\n",
    "    ways = 0\n",
    "\n",
    "    for i in range(1, len(expression), 2):\n",
    "        op = expression[i]\n",
    "        left_expr = expression[:i]\n",
    "        right_expr = expression[i + 1:]\n",
    "\n",
    "        if op == '&':\n",
    "            if result == '1':\n",
    "                ways += count_eval(left_expr, '1', memo) * count_eval(right_expr, '1', memo)\n",
    "            else:\n",
    "                ways += count_eval(left_expr, '0', memo) * count_eval(right_expr, '1', memo)\n",
    "                ways += count_eval(left_expr, '1', memo) * count_eval(right_expr, '0', memo)\n",
    "                ways += count_eval(left_expr, '0', memo) * count_eval(right_expr, '0', memo)\n",
    "        elif op == '|':\n",
    "            if result == '1':\n",
    "                ways += count_eval(left_expr, '1', memo) * count_eval(right_expr, '0', memo)\n",
    "                ways += count_eval(left_expr, '0', memo) * count_eval(right_expr, '1', memo)\n",
    "                ways += count_eval(left_expr, '1', memo) * count_eval(right_expr, '1', memo)\n",
    "            else:\n",
    "                ways += count_eval(left_expr, '0', memo) * count_eval(right_expr, '0', memo)\n",
    "        elif op == '^':\n",
    "            if result == '1':\n",
    "                ways += count_eval(left_expr, '1', memo) * count_eval(right_expr, '0', memo)\n",
    "                ways += count_eval(left_expr, '0', memo) * count_eval(right_expr, '1', memo)\n",
    "            else:\n",
    "                ways += count_eval(left_expr, '1', memo) * count_eval(right_expr, '1', memo)\n",
    "                ways += count_eval(left_expr, '0', memo) * count_eval(right_expr, '0', memo)\n",
    "\n",
    "    memo[(expression, result)] = ways\n",
    "    return ways\n",
    "\n",
    "def count_evaluations(expression, result):\n",
    "    memo = {}\n",
    "    return count_eval(expression, result, memo)\n",
    "\n",
    "# Example usage:\n",
    "expression1 = \"1^0|0|1\"\n",
    "result1 = 'false'\n",
    "print(f'Number of ways: {count_evaluations(expression1, result1)}')\n",
    "\n",
    "expression2 = \"0&0&0&1^1|0\"\n",
    "result2 = 'trie'\n",
    "print(f'Number of ways: {count_evaluations(expression2, result2)}')"
   ]
  },
  {
   "cell_type": "code",
   "execution_count": null,
   "id": "7fb683a9-b88b-4503-aa64-1ff4557f1ea7",
   "metadata": {},
   "outputs": [],
   "source": []
  }
 ],
 "metadata": {
  "kernelspec": {
   "display_name": "Python 3 (ipykernel)",
   "language": "python",
   "name": "python3"
  },
  "language_info": {
   "codemirror_mode": {
    "name": "ipython",
    "version": 3
   },
   "file_extension": ".py",
   "mimetype": "text/x-python",
   "name": "python",
   "nbconvert_exporter": "python",
   "pygments_lexer": "ipython3",
   "version": "3.11.5"
  }
 },
 "nbformat": 4,
 "nbformat_minor": 5
}
